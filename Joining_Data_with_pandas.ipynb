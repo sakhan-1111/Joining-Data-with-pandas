{
 "cells": [
  {
   "cell_type": "markdown",
   "id": "b4f0f48a",
   "metadata": {},
   "source": [
    "# 1 Data Merging Basics\n",
    "Learn how you can merge disparate data using inner joins. By combining information from multiple sources you’ll uncover compelling insights that may have previously been hidden. You’ll also learn how the relationship between those sources, such as one-to-one or one-to-many, can affect your result."
   ]
  },
  {
   "cell_type": "markdown",
   "id": "57ad5873",
   "metadata": {},
   "source": [
    "## 1.1 Inner join"
   ]
  },
  {
   "cell_type": "markdown",
   "id": "c1d90771",
   "metadata": {},
   "source": [
    "## 1.2 What column to merge on?\n",
    "Chicago provides a list of taxicab owners and vehicles licensed to operate within the city, for public safety. Your goal is to merge two tables together. One table is called `taxi_owners`, with info about the taxi cab company owners, and one is called `taxi_veh`, with info about each taxi cab vehicle. Both the `taxi_owners` and `taxi_veh` tables have been loaded for you and you can explore them in the IPython shell.\n",
    "\n",
    "Choose the column you would use to merge the two tables on using the `.merge()` method."
   ]
  },
  {
   "cell_type": "markdown",
   "id": "af60a600",
   "metadata": {},
   "source": [
    "### 1.2.1 Instructions\n",
    "### Possible Answers\n",
    "- [ ] `on='rid'`\n",
    "- [x] `on='vid'`\n",
    "- [ ] `on='year'`\n",
    "- [ ] `on='zip'`"
   ]
  },
  {
   "cell_type": "markdown",
   "id": "6b506686",
   "metadata": {},
   "source": [
    "## 1.3 Your first inner join\n",
    "You have been tasked with figuring out what the most popular types of fuel used in Chicago taxis are. To complete the analysis, you need to merge the `taxi_owners` and `taxi_veh` tables together on the `vid` column. You can then use the merged table along with the `.value_counts()` method to find the most common `fuel_type`.\n",
    "\n",
    "Since you'll be working with `pandas` throughout the course, the package will be preloaded for you as `pd` in each exercise in this course. Also the `taxi_owners` and `taxi_veh` DataFrames are loaded for you."
   ]
  },
  {
   "cell_type": "markdown",
   "id": "27dbc146",
   "metadata": {},
   "source": [
    "### 1.3.1 Instructions 1/3\n",
    "- Merge `taxi_owners` with `taxi_veh` on the column `vid`, and save the result to `taxi_own_veh`."
   ]
  },
  {
   "cell_type": "code",
   "execution_count": 1,
   "id": "1891001e",
   "metadata": {},
   "outputs": [
    {
     "name": "stdout",
     "output_type": "stream",
     "text": [
      "Index(['rid', 'vid', 'owner_x', 'address', 'zip', 'make', 'model', 'year',\n",
      "       'fuel_type', 'owner_y'],\n",
      "      dtype='object')\n"
     ]
    }
   ],
   "source": [
    "import pandas as pd\n",
    "\n",
    "taxi_owners = pd.read_pickle(r'datasets/taxi_owners.p')\n",
    "taxi_veh = pd.read_pickle(r'datasets/taxi_vehicles.p')\n",
    "\n",
    "# Merge the taxi_owners and taxi_veh tables\n",
    "taxi_own_veh = taxi_owners.merge(taxi_veh, on = \"vid\")\n",
    "\n",
    "# Print the column names of the taxi_own_veh\n",
    "print(taxi_own_veh.columns)"
   ]
  },
  {
   "cell_type": "markdown",
   "id": "d7e0368e",
   "metadata": {},
   "source": [
    "### 1.3.2 Instructions 2/3\n",
    "- Set the left and right table suffixes for overlapping columns of the merge to `_own` and `_veh`, respectively."
   ]
  },
  {
   "cell_type": "code",
   "execution_count": 2,
   "id": "8d5aaa2a",
   "metadata": {},
   "outputs": [
    {
     "name": "stdout",
     "output_type": "stream",
     "text": [
      "Index(['rid', 'vid', 'owner_own', 'address', 'zip', 'make', 'model', 'year',\n",
      "       'fuel_type', 'owner_veh'],\n",
      "      dtype='object')\n"
     ]
    }
   ],
   "source": [
    "# Merge the taxi_owners and taxi_veh tables setting a suffix\n",
    "taxi_own_veh = taxi_owners.merge(taxi_veh, on='vid', suffixes = (\"_own\", \"_veh\"))\n",
    "\n",
    "# Print the column names of taxi_own_veh\n",
    "print(taxi_own_veh.columns)"
   ]
  },
  {
   "cell_type": "markdown",
   "id": "26906d0d",
   "metadata": {},
   "source": [
    "### 1.3.3 Instructions 3/3\n",
    "- Select the `fuel_type` column from `taxi_own_veh` and print the `value_counts()` to find the most popular `fuel_type`s used."
   ]
  },
  {
   "cell_type": "code",
   "execution_count": 3,
   "id": "b99990a6",
   "metadata": {},
   "outputs": [
    {
     "name": "stdout",
     "output_type": "stream",
     "text": [
      "HYBRID                    2792\n",
      "GASOLINE                   611\n",
      "FLEX FUEL                   89\n",
      "COMPRESSED NATURAL GAS      27\n",
      "Name: fuel_type, dtype: int64\n"
     ]
    }
   ],
   "source": [
    "# Merge the taxi_owners and taxi_veh tables setting a suffix\n",
    "taxi_own_veh = taxi_owners.merge(taxi_veh, on='vid', suffixes=('_own','_veh'))\n",
    "\n",
    "# Print the value_counts to find the most popular fuel_type\n",
    "print(taxi_own_veh['fuel_type'].value_counts())"
   ]
  },
  {
   "cell_type": "markdown",
   "id": "c25b58e4",
   "metadata": {},
   "source": [
    "## 1.4 Inner joins and number of rows returned\n",
    "All of the merges you have studied to this point are called inner joins. It is necessary to understand that inner joins only return the rows with matching values in both tables. You will explore this further by reviewing the merge between the `wards` and `census` tables, then comparing it to merges of copies of these tables that are slightly altered, named `wards_altered`, and `census_altered`. The first row of the `wards` column has been changed in the altered tables. You will examine how this affects the merge between them. The tables have been loaded for you.\n",
    "\n",
    "For this exercise, it is important to know that the `wards` and `census` tables start with 50 rows."
   ]
  },
  {
   "cell_type": "markdown",
   "id": "1f9ec412",
   "metadata": {},
   "source": [
    "### 1.4.1 Instructions 1/3\n",
    "- Merge `wards` and `census` on the `ward` column and save the result to `wards_census`."
   ]
  },
  {
   "cell_type": "code",
   "execution_count": 4,
   "id": "55bda17f",
   "metadata": {},
   "outputs": [
    {
     "name": "stdout",
     "output_type": "stream",
     "text": [
      "wards_census table shape: (50, 9)\n"
     ]
    }
   ],
   "source": [
    "wards = pd.read_pickle(r'datasets/ward.p')\n",
    "census = pd.read_pickle(r'datasets/census.p')\n",
    "wards = wards.astype(str)\n",
    "census = census.astype(str)\n",
    "\n",
    "# Merge the wards and census tables on the ward column\n",
    "wards_census = wards.merge(census, on = \"ward\")\n",
    "\n",
    "# Print the shape of wards_census\n",
    "print('wards_census table shape:', wards_census.shape)"
   ]
  },
  {
   "cell_type": "markdown",
   "id": "55cc0b70",
   "metadata": {},
   "source": [
    "### 1.4.2 Instructions 2/3\n",
    "- Merge the `wards_altered` and `census` tables on the `ward` column, and notice the difference in returned rows."
   ]
  },
  {
   "cell_type": "code",
   "execution_count": 5,
   "id": "fbfa679e",
   "metadata": {},
   "outputs": [
    {
     "name": "stdout",
     "output_type": "stream",
     "text": [
      "  ward\n",
      "0   61\n",
      "1    2\n",
      "2    3\n",
      "3    4\n",
      "4    5\n",
      "wards_altered_census table shape: (49, 9)\n"
     ]
    }
   ],
   "source": [
    "wards_altered = pd.read_csv('datasets/wards_altered.csv')\n",
    "wards_altered = wards_altered.astype(str)\n",
    "\n",
    "# Print the first few rows of the wards_altered table to view the change \n",
    "print(wards_altered[['ward']].head())\n",
    "\n",
    "# Merge the wards_altered and census tables on the ward column\n",
    "wards_altered_census = wards_altered.merge(census, on = \"ward\")\n",
    "\n",
    "# Print the shape of wards_altered_census\n",
    "print('wards_altered_census table shape:', wards_altered_census.shape)"
   ]
  },
  {
   "cell_type": "markdown",
   "id": "48dc9533",
   "metadata": {},
   "source": [
    "### 1.4.3 Instructions 3/3\n",
    "- Merge the `wards` and `census_altered` tables on the `ward` column, and notice the difference in returned rows."
   ]
  },
  {
   "cell_type": "code",
   "execution_count": 6,
   "id": "799f9d45",
   "metadata": {},
   "outputs": [
    {
     "name": "stdout",
     "output_type": "stream",
     "text": [
      "   ward\n",
      "0  None\n",
      "1     2\n",
      "2     3\n",
      "3     4\n",
      "4     5\n",
      "wards_census_altered table shape: (49, 9)\n"
     ]
    }
   ],
   "source": [
    "census_altered = pd.read_csv('datasets/census_altered.csv')\n",
    "census_altered = census_altered.astype(str)\n",
    "\n",
    "# Print the first few rows of the census_altered table to view the change \n",
    "print(census_altered[['ward']].head())\n",
    "\n",
    "# Merge the wards and census_altered tables on the ward column\n",
    "wards_census_altered = wards.merge(census_altered, on = \"ward\")\n",
    "\n",
    "# Print the shape of wards_census_altered\n",
    "print('wards_census_altered table shape:', wards_census_altered.shape)"
   ]
  },
  {
   "cell_type": "markdown",
   "id": "8bf27f98",
   "metadata": {},
   "source": [
    "## 1.5 One-to-many relationships"
   ]
  },
  {
   "cell_type": "markdown",
   "id": "53015ae4",
   "metadata": {},
   "source": [
    "## 1.6 One-to-many classification\n",
    "Understanding the difference between a one-to-one and one-to-many relationship is a useful skill. In this exercise, consider a set of tables from an e-commerce website. The hypothetical tables are the following:\n",
    "\n",
    "- A `customer` table with information about each customer\n",
    "- A `cust_tax_info` table with customers unique tax IDs\n",
    "- An `orders` table with information about each order\n",
    "- A `products` table with details about each unique product sold\n",
    "- An `inventory` table with information on how much total inventory is available to sell for each product"
   ]
  },
  {
   "cell_type": "markdown",
   "id": "bdcdaf7b",
   "metadata": {},
   "source": [
    "### 1.6.1 Instructions\n",
    "- Select the relationship type that is most appropriate for the relationship between the different tables: **One-to-one**, or **One-to-many**."
   ]
  },
  {
   "cell_type": "markdown",
   "id": "071d2f24",
   "metadata": {},
   "source": [
    "### One-to-one\n",
    "- The relationship between products and inventory.\n",
    "- The relationship between customer and cust_tax_info.\n",
    "\n",
    "### One-to-many\n",
    "- The relationship between the products and orders.\n",
    "- The relationship between the customers and orders."
   ]
  },
  {
   "cell_type": "markdown",
   "id": "2de112d7",
   "metadata": {},
   "source": [
    "## 1.7 One-to-many merge\n",
    "A business may have one or multiple owners. In this exercise, you will continue to gain experience with one-to-many merges by merging a table of business owners, called `biz_owners`, to the `licenses` table. Recall from the video lesson, with a one-to-many relationship, a row in the left table may be repeated if it is related to multiple rows in the right table. In this lesson, you will explore this further by finding out what is the most common business owner title. (i.e., secretary, CEO, or vice president)\n",
    "\n",
    "The `licenses` and `biz_owners` DataFrames are loaded for you."
   ]
  },
  {
   "cell_type": "markdown",
   "id": "2d117ec6",
   "metadata": {},
   "source": [
    "### 1.7.1 Instructions\n",
    "- Starting with the `licenses` table on the left, merge it to the `biz_owners` table on the column `account`, and save the results to a variable named `licenses_owners`.\n",
    "- Group `licenses_owners` by `title` and count the number of accounts for each title. Save the result as `counted_df`\n",
    "- Sort `counted_df` by the number of **accounts** in **descending order**, and save this as a variable named `sorted_df`.\n",
    "- Use the `.head()` method to print the first few rows of the `sorted_df`."
   ]
  },
  {
   "cell_type": "code",
   "execution_count": 7,
   "id": "e3ef2d67",
   "metadata": {},
   "outputs": [
    {
     "name": "stdout",
     "output_type": "stream",
     "text": [
      "                 account\n",
      "title                   \n",
      "PRESIDENT           6259\n",
      "SECRETARY           5205\n",
      "SOLE PROPRIETOR     1658\n",
      "OTHER               1200\n",
      "VICE PRESIDENT       970\n"
     ]
    }
   ],
   "source": [
    "licenses = pd.read_pickle('datasets/licenses.p')\n",
    "biz_owners = pd.read_pickle('datasets/business_owners.p')\n",
    "\n",
    "# Merge the licenses and biz_owners table on account\n",
    "licenses_owners = licenses.merge(biz_owners, on = \"account\")\n",
    "\n",
    "# Group the results by title then count the number of accounts\n",
    "counted_df = licenses_owners.groupby(\"title\").agg({'account':'count'})\n",
    "\n",
    "# Sort the counted_df in desending order\n",
    "sorted_df = counted_df.sort_values(\"account\", ascending = False)\n",
    "\n",
    "# Use .head() method to print the first few rows of sorted_df\n",
    "print(sorted_df.head())"
   ]
  },
  {
   "cell_type": "markdown",
   "id": "566fa097",
   "metadata": {},
   "source": [
    "## 1.8 Merging multiple DataFrames"
   ]
  },
  {
   "cell_type": "markdown",
   "id": "b91c9968",
   "metadata": {},
   "source": [
    "## 1.9 Total riders in a month\n",
    "Your goal is to find the total number of rides provided to passengers passing through the Wilson station (`station_name == 'Wilson'`) when riding Chicago's public transportation system on weekdays (`day_type == 'Weekday'`) in July (`month == 7`). Luckily, Chicago provides this detailed data, but it is in three different tables. You will work on merging these tables together to answer the question. This data is different from the business related data you have seen so far, but all the information you need to answer the question is provided.\n",
    "\n",
    "The `cal`, `ridership`, and `stations` DataFrames have been loaded for you. The relationship between the tables can be seen in the diagram below."
   ]
  },
  {
   "attachments": {
    "1.PNG": {
     "image/png": "[encoded data removed]"
    }
   },
   "cell_type": "markdown",
   "id": "13abc791",
   "metadata": {},
   "source": [
    "![1.PNG](attachment:1.PNG)"
   ]
  },
  {
   "cell_type": "code",
   "execution_count": 8,
   "id": "074460ab",
   "metadata": {},
   "outputs": [],
   "source": [
    "ridership = pd.read_pickle('datasets/cta_ridership.p')\n",
    "cal = pd.read_pickle('datasets/cta_calendar.p')\n",
    "stations = pd.read_pickle('datasets/stations.p')"
   ]
  },
  {
   "cell_type": "markdown",
   "id": "b992696f",
   "metadata": {},
   "source": [
    "### 1.9.1 Instructions 1/3\n",
    "- Merge the `ridership` and `cal` tables together, starting with the `ridership` table on the left and save the result to the variable `ridership_cal`. If you code takes too long to run, your merge conditions might be incorrect."
   ]
  },
  {
   "cell_type": "code",
   "execution_count": 9,
   "id": "9bee60c5",
   "metadata": {},
   "outputs": [],
   "source": [
    "# Merge the ridership and cal tables\n",
    "ridership_cal = ridership.merge(cal, on = [\"year\", \"month\", \"day\"])"
   ]
  },
  {
   "cell_type": "markdown",
   "id": "a9134a59",
   "metadata": {},
   "source": [
    "### 1.9.2 Instructions 2/3\n",
    "- Extend the previous merge to three tables by also merging the `stations` table."
   ]
  },
  {
   "cell_type": "code",
   "execution_count": 10,
   "id": "4919c326",
   "metadata": {},
   "outputs": [],
   "source": [
    "# Merge the ridership, cal, and stations tables\n",
    "ridership_cal_stations = ridership.merge(cal, on=['year','month','day']).merge(stations, on = \"station_id\")"
   ]
  },
  {
   "cell_type": "markdown",
   "id": "75020241",
   "metadata": {},
   "source": [
    "### 1.9.3 Instructions 3/3\n",
    "- Create a variable called `filter_criteria` to select the appropriate rows from the merged table so that you can sum the `rides` column."
   ]
  },
  {
   "cell_type": "code",
   "execution_count": 11,
   "id": "5eff057c",
   "metadata": {},
   "outputs": [
    {
     "name": "stdout",
     "output_type": "stream",
     "text": [
      "140005\n"
     ]
    }
   ],
   "source": [
    "# Merge the ridership, cal, and stations tables\n",
    "ridership_cal_stations = ridership.merge(cal, on=['year','month','day']).merge(stations, on='station_id')\n",
    "\n",
    "# Create a filter to filter ridership_cal_stations\n",
    "filter_criteria = ((ridership_cal_stations['month'] == 7) \n",
    "                   & (ridership_cal_stations['day_type'] == \"Weekday\") \n",
    "                   & (ridership_cal_stations['station_name'] == \"Wilson\"))\n",
    "\n",
    "# Use .loc and the filter to select for rides\n",
    "print(ridership_cal_stations.loc[filter_criteria, 'rides'].sum())"
   ]
  },
  {
   "cell_type": "markdown",
   "id": "2ee6b630",
   "metadata": {},
   "source": [
    "## 1.10 Three table merge\n",
    "To solidify the concept of a three DataFrame merge, practice another exercise. A reasonable extension of our review of Chicago business data would include looking at demographics information about the neighborhoods where the businesses are. A table with the median income by zip code has been provided to you. You will merge the `licenses` and `wards` tables with this new income-by-zip-code table called `zip_demo`.\n",
    "\n",
    "The `licenses`, `wards`, and `zip_demo` DataFrames have been loaded for you."
   ]
  },
  {
   "cell_type": "code",
   "execution_count": 12,
   "id": "78b5aa65",
   "metadata": {},
   "outputs": [],
   "source": [
    "licenses = pd.read_pickle('datasets/licenses.p')\n",
    "zip_demo = pd.read_pickle('datasets/zip_demo.p')"
   ]
  },
  {
   "cell_type": "markdown",
   "id": "601ad4ea",
   "metadata": {},
   "source": [
    "### 1.10.1 Instructions\n",
    "- Starting with the `licenses` table, merge to it the `zip_demo` table on the `zip` column. Then merge the resulting table to the `wards` table on the `ward` column. Save result of the three merged tables to a variable named `licenses_zip_ward`.\n",
    "- Group the results of the three merged tables by the column `alderman` and find the median `income`."
   ]
  },
  {
   "cell_type": "code",
   "execution_count": 13,
   "id": "339fe78c",
   "metadata": {},
   "outputs": [
    {
     "name": "stdout",
     "output_type": "stream",
     "text": [
      "                             income\n",
      "alderman                           \n",
      "Ameya Pawar                 66246.0\n",
      "Anthony A. Beale            38206.0\n",
      "Anthony V. Napolitano       82226.0\n",
      "Ariel E. Reyboras           41307.0\n",
      "Brendan Reilly             110215.0\n",
      "Brian Hopkins               87143.0\n",
      "Carlos Ramirez-Rosa         66246.0\n",
      "Carrie M. Austin            38206.0\n",
      "Chris Taliaferro            55566.0\n",
      "Daniel \"Danny\" Solis        41226.0\n",
      "David H. Moore              33304.0\n",
      "Deborah Mell                66246.0\n",
      "Debra L. Silverstein        50554.0\n",
      "Derrick G. Curtis           65770.0\n",
      "Edward M. Burke             42335.0\n",
      "Emma M. Mitts               36283.0\n",
      "George Cardenas             33959.0\n",
      "Gilbert Villegas            41307.0\n",
      "Gregory I. Mitchell         24941.0\n",
      "Harry Osterman              45442.0\n",
      "Howard B. Brookins, Jr.     33304.0\n",
      "James Cappleman             79565.0\n",
      "Jason C. Ervin              41226.0\n",
      "Joe Moore                   39163.0\n",
      "John S. Arena               70122.0\n",
      "Leslie A. Hairston          28024.0\n",
      "Margaret Laurino            70122.0\n",
      "Marty Quinn                 67045.0\n",
      "Matthew J. O'Shea           59488.0\n",
      "Michael R. Zalewski         42335.0\n",
      "Michael Scott, Jr.          31445.0\n",
      "Michelle A. Harris          32558.0\n",
      "Michelle Smith             100116.0\n",
      "Milagros \"Milly\" Santiago   41307.0\n",
      "Nicholas Sposato            62223.0\n",
      "Pat Dowell                  46340.0\n",
      "Patrick Daley Thompson      41226.0\n",
      "Patrick J. O'Connor         50554.0\n",
      "Proco \"Joe\" Moreno          87143.0\n",
      "Raymond A. Lopez            33959.0\n",
      "Ricardo Munoz               31445.0\n",
      "Roberto Maldonado           68223.0\n",
      "Roderick T. Sawyer          32558.0\n",
      "Scott Waguespack            68223.0\n",
      "Susan Sadlowski Garza       38417.0\n",
      "Tom Tunney                  88708.0\n",
      "Toni L. Foulkes             27573.0\n",
      "Walter Burnett, Jr.         87143.0\n",
      "William D. Burns           107811.0\n",
      "Willie B. Cochran           28024.0\n"
     ]
    }
   ],
   "source": [
    "# Merge licenses and zip_demo, on zip; and merge the wards on ward\n",
    "licenses_zip_ward = licenses.merge(zip_demo, on = \"zip\").merge(wards, on = \"ward\")\n",
    "\n",
    "# Print the results by alderman and show median income\n",
    "print(licenses_zip_ward.groupby(\"alderman\").agg({'income':'median'}))"
   ]
  },
  {
   "cell_type": "markdown",
   "id": "18ea883e",
   "metadata": {},
   "source": [
    "## 1.11 One-to-many merge with multiple tables\n",
    "In this exercise, assume that you are looking to start a business in the city of Chicago. Your perfect idea is to start a company that uses goats to mow the lawn for other businesses. However, you have to choose a location in the city to put your goat farm. You need a location with a great deal of space and relatively few businesses and people around to avoid complaints about the smell. You will need to merge three tables to help you choose your location. The `land_use` table has info on the percentage of vacant land by city ward. The `census` table has population by ward, and the `licenses` table lists businesses by ward.\n",
    "\n",
    "The `land_use`, `census`, and `licenses` tables have been loaded for you."
   ]
  },
  {
   "cell_type": "code",
   "execution_count": 14,
   "id": "990a97f5",
   "metadata": {},
   "outputs": [],
   "source": [
    "land_use = pd.read_pickle('datasets/land_use.p')\n",
    "land_use = land_use.astype(str)"
   ]
  },
  {
   "cell_type": "markdown",
   "id": "47b81133",
   "metadata": {},
   "source": [
    "### 1.11.1 Instructions 1/3\n",
    "- Merge `land_use` and `census` on the `ward` column. Merge the result of this with `licenses` on the `ward` column, using the suffix `_cen` for the left table and `_lic` for the right table. Save this to the variable `land_cen_lic`."
   ]
  },
  {
   "cell_type": "code",
   "execution_count": 15,
   "id": "e7f16b77",
   "metadata": {},
   "outputs": [],
   "source": [
    "# Merge land_use and census and merge result with licenses including suffixes\n",
    "land_cen_lic = land_use.merge(census, on = \"ward\").merge(licenses, on = \"ward\", suffixes = (\"_cen\", \"_lic\"))"
   ]
  },
  {
   "cell_type": "markdown",
   "id": "064700ac",
   "metadata": {},
   "source": [
    "### 1.11.2 Instructions 2/3\n",
    "- Group `land_cen_lic` by `ward`, `pop_2010` (the population in 2010), and `vacant`, then count the number of `accounts`. Save the results to `pop_vac_lic`."
   ]
  },
  {
   "cell_type": "code",
   "execution_count": 16,
   "id": "d47665ec",
   "metadata": {},
   "outputs": [
    {
     "name": "stdout",
     "output_type": "stream",
     "text": [
      "Index(['ward', 'residential', 'commercial', 'industrial', 'vacant', 'other',\n",
      "       'pop_2000', 'pop_2010', 'change', 'address_cen', 'zip_cen', 'account',\n",
      "       'aid', 'business', 'address_lic', 'zip_lic'],\n",
      "      dtype='object')\n"
     ]
    }
   ],
   "source": [
    "# Merge land_use and census and merge result with licenses including suffixes\n",
    "land_cen_lic = land_use.merge(census, on='ward').merge(licenses, on='ward', suffixes=('_cen','_lic'))\n",
    "print(land_cen_lic.columns)\n",
    "\n",
    "# Group by ward, pop_2010, and vacant, then count the # of accounts\n",
    "pop_vac_lic = land_cen_lic.groupby(['ward', 'pop_2010', 'vacant'], as_index=False).agg({'account':'count'})"
   ]
  },
  {
   "cell_type": "markdown",
   "id": "b85f7688",
   "metadata": {},
   "source": [
    "### 1.11.3 Instructions 3/3\n",
    "- Sort `pop_vac_lic` by `vacant`, `account`, and `pop_2010` in descending, ascending, and ascending order respectively. Save it as `sorted_pop_vac_lic`."
   ]
  },
  {
   "cell_type": "code",
   "execution_count": 17,
   "id": "06c6009e",
   "metadata": {},
   "outputs": [
    {
     "name": "stdout",
     "output_type": "stream",
     "text": [
      "   ward pop_2010 vacant  account\n",
      "46    6    52341      8      149\n",
      "27   34    51599      7       99\n",
      "14   22    53515      7      156\n",
      "33    4    54589      7      160\n",
      "19   27    52939      7      497\n"
     ]
    }
   ],
   "source": [
    "# Merge land_use and census and merge result with licenses including suffixes\n",
    "land_cen_lic = land_use.merge(census, on='ward').merge(licenses, on='ward', suffixes=('_cen','_lic'))\n",
    "\n",
    "# Group by ward, pop_2010, and vacant, then count the # of accounts\n",
    "pop_vac_lic = land_cen_lic.groupby(['ward','pop_2010','vacant'], as_index=False).agg({'account':'count'})\n",
    "\n",
    "# Sort pop_vac_lic and print the results\n",
    "sorted_pop_vac_lic = pop_vac_lic.sort_values([\"vacant\", \"account\", \"pop_2010\"], ascending=[False, True, True])\n",
    "\n",
    "# Print the top few rows of sorted_pop_vac_lic\n",
    "print(sorted_pop_vac_lic.head())"
   ]
  },
  {
   "cell_type": "markdown",
   "id": "a53d801e",
   "metadata": {},
   "source": [
    "# 2 Merging Tables With Different Join Types\n",
    "Take your knowledge of joins to the next level. In this chapter, you’ll work with TMDb movie data as you learn about left, right, and outer joins. You’ll also discover how to merge a table to itself and merge on a DataFrame index."
   ]
  },
  {
   "cell_type": "markdown",
   "id": "68724396",
   "metadata": {},
   "source": [
    "## 2.1 Left join"
   ]
  },
  {
   "cell_type": "markdown",
   "id": "1c4c3e96",
   "metadata": {},
   "source": [
    "## 2.2 Counting missing rows with left join\n",
    "The Movie Database is supported by volunteers going out into the world, collecting data, and entering it into the database. This includes financial data, such as movie budget and revenue. If you wanted to know which movies are still missing data, you could use a left join to identify them. Practice using a left join by merging the `movies` table and the `financials` table.\n",
    "\n",
    "The `movies` and `financials` tables have been loaded for you."
   ]
  },
  {
   "cell_type": "code",
   "execution_count": 18,
   "id": "4c18170c",
   "metadata": {},
   "outputs": [],
   "source": [
    "movies = pd.read_pickle('datasets/movies.p')\n",
    "movies = movies.astype(str)\n",
    "\n",
    "financials = pd.read_pickle('datasets/financials.p')\n",
    "financials = financials.astype(str)"
   ]
  },
  {
   "cell_type": "markdown",
   "id": "d47e23d9",
   "metadata": {},
   "source": [
    "### 2.2.1 Instructions 1/3\n",
    "### Question\n",
    "What column is likely the best column to merge the two tables on?\n",
    "\n",
    "### Possible Answers\n",
    "- [ ] `on='budget'`\n",
    "- [ ] `on='popularity'`\n",
    "- [x] `on='id'`"
   ]
  },
  {
   "cell_type": "markdown",
   "id": "973e12b1",
   "metadata": {},
   "source": [
    "### 2.2.2 Instructions 2/3\n",
    "- Merge the `movies` table, as the left table, with the `financials` table using a left join, and save the result to `movies_financials`."
   ]
  },
  {
   "cell_type": "code",
   "execution_count": 19,
   "id": "9cb16605",
   "metadata": {},
   "outputs": [],
   "source": [
    "# Merge movies and financials with a left join\n",
    "movies_financials = movies.merge(financials, on = \"id\", how = \"left\")"
   ]
  },
  {
   "cell_type": "markdown",
   "id": "5eb27172",
   "metadata": {},
   "source": [
    "### 2.2.3 Instructions 3/3\n",
    "- Count the number of rows in `movies_financials` with a null value in the `budget` column."
   ]
  },
  {
   "cell_type": "code",
   "execution_count": 20,
   "id": "bd26d415",
   "metadata": {},
   "outputs": [
    {
     "name": "stdout",
     "output_type": "stream",
     "text": [
      "1574\n"
     ]
    }
   ],
   "source": [
    "# Merge the movies table with the financials table with a left join\n",
    "movies_financials = movies.merge(financials, on='id', how='left')\n",
    "\n",
    "# Count the number of rows in the budget column that are missing\n",
    "number_of_missing_fin = movies_financials['budget'].isnull().sum()\n",
    "\n",
    "# Print the number of movies missing financials\n",
    "print(number_of_missing_fin)"
   ]
  },
  {
   "cell_type": "markdown",
   "id": "e4973387",
   "metadata": {},
   "source": [
    "## 2.3 Enriching a dataset\n",
    "Setting `how='left'` with the `.merge()` method is a useful technique for enriching or enhancing a dataset with additional information from a different table. In this exercise, you will start off with a sample of movie data from the movie series Toy Story. Your goal is to enrich this data by adding the marketing tag line for each movie. You will compare the results of a left join versus an inner join.\n",
    "\n",
    "The `toy_story` DataFrame contains the Toy Story movies. The `toy_story` and `taglines` DataFrames have been loaded for you."
   ]
  },
  {
   "cell_type": "code",
   "execution_count": 21,
   "id": "7b31d6f6",
   "metadata": {},
   "outputs": [],
   "source": [
    "toy_story = movies[movies['title'].str.contains(\"Toy Story\")]\n",
    "\n",
    "taglines = pd.read_pickle('datasets/taglines.p')\n",
    "taglines = taglines.astype(str)"
   ]
  },
  {
   "cell_type": "markdown",
   "id": "89c3e707",
   "metadata": {},
   "source": [
    "### 2.3.1 Instructions 1/2\n",
    "- Merge `toy_story` and `taglines` on the `id` column with a left join, and save the result as `toystory_tag`."
   ]
  },
  {
   "cell_type": "code",
   "execution_count": 22,
   "id": "936f9e73",
   "metadata": {},
   "outputs": [
    {
     "name": "stdout",
     "output_type": "stream",
     "text": [
      "      id        title         popularity release_date  \\\n",
      "0  10193  Toy Story 3  59.99541800000001   2010-06-16   \n",
      "1    863  Toy Story 2          73.575118   1999-10-30   \n",
      "2    862    Toy Story          73.640445   1995-10-30   \n",
      "\n",
      "                    tagline  \n",
      "0  No toy gets left behind.  \n",
      "1        The toys are back!  \n",
      "2                       NaN  \n",
      "(3, 5)\n"
     ]
    }
   ],
   "source": [
    "# Merge the toy_story and taglines tables with a left join\n",
    "toystory_tag = toy_story.merge(taglines, on = \"id\", how = \"left\")\n",
    "\n",
    "# Print the rows and shape of toystory_tag\n",
    "print(toystory_tag)\n",
    "print(toystory_tag.shape)"
   ]
  },
  {
   "cell_type": "markdown",
   "id": "cf4a71d4",
   "metadata": {},
   "source": [
    "### 2.3.2 Instructions 2/2\n",
    "- With `toy_story` as the left table, merge to it `taglines` on the `id` column with an inner join, and save as `toystory_tag`."
   ]
  },
  {
   "cell_type": "code",
   "execution_count": 23,
   "id": "d22f4068",
   "metadata": {},
   "outputs": [
    {
     "name": "stdout",
     "output_type": "stream",
     "text": [
      "      id        title         popularity release_date  \\\n",
      "0  10193  Toy Story 3  59.99541800000001   2010-06-16   \n",
      "1    863  Toy Story 2          73.575118   1999-10-30   \n",
      "\n",
      "                    tagline  \n",
      "0  No toy gets left behind.  \n",
      "1        The toys are back!  \n",
      "(2, 5)\n"
     ]
    }
   ],
   "source": [
    "# Merge the toy_story and taglines tables with a inner join\n",
    "toystory_tag = toy_story.merge(taglines, on = \"id\")\n",
    "\n",
    "# Print the rows and shape of toystory_tag\n",
    "print(toystory_tag)\n",
    "print(toystory_tag.shape)"
   ]
  },
  {
   "cell_type": "markdown",
   "id": "1ae681a8",
   "metadata": {},
   "source": [
    "## 2.4 How many rows with a left join?\n",
    "Select the true statement about left joins.\n",
    "\n",
    "Try running the following code statements in the IPython shell.\n",
    "\n",
    "    left_table.merge(one_to_one, on='id', how='left').shape\n",
    "    left_table.merge(one_to_many, on='id', how='left').shape\n",
    "\n",
    "Note that the `left_table` starts out with **4** rows."
   ]
  },
  {
   "cell_type": "markdown",
   "id": "1737ec28",
   "metadata": {},
   "source": [
    "### 2.4.1 Instructions\n",
    "### Possible Answers\n",
    "- [ ] The output of a **one-to-one** merge with a left join will have **more** rows than the left table.\n",
    "- [ ] The output of a **one-to-one** merge with a left join will have **fewer** rows than the left table.\n",
    "- [x] The output of a **one-to-many** merge with a left join will have greater than or equal rows than the left table."
   ]
  },
  {
   "cell_type": "markdown",
   "id": "e238b722",
   "metadata": {},
   "source": [
    "## 2.5 Other joins"
   ]
  },
  {
   "cell_type": "markdown",
   "id": "2878cfdb",
   "metadata": {},
   "source": [
    "## 2.6 Right join to find unique movies\n",
    "Most of the recent big-budget science fiction movies can also be classified as action movies. You are given a table of science fiction movies called `scifi_movies` and another table of action movies called `action_movies`. Your goal is to find which movies are considered only science fiction movies. Once you have this table, you can merge the `movies` table in to see the movie names. Since this exercise is related to science fiction movies, use a right join as your superhero power to solve this problem.\n",
    "\n",
    "The `movies`, `scifi_movies`, and `action_movies` tables have been loaded for you."
   ]
  },
  {
   "cell_type": "code",
   "execution_count": 24,
   "id": "d3097692",
   "metadata": {},
   "outputs": [],
   "source": [
    "movie_to_genres = pd.read_pickle('datasets/movie_to_genres.p')\n",
    "movie_to_genres = movie_to_genres.astype(str)\n",
    "\n",
    "action_movies = movie_to_genres[movie_to_genres['genre'] == 'Action']\n",
    "scifi_movies = movie_to_genres[movie_to_genres['genre'] == 'Science Fiction']"
   ]
  },
  {
   "cell_type": "markdown",
   "id": "e2391b21",
   "metadata": {},
   "source": [
    "### 2.6.1 Instructions 1/4\n",
    "- Merge `action_movies` and `scifi_movies` tables with a **right join** on `movie_id`. Save the result as `action_scifi`."
   ]
  },
  {
   "cell_type": "code",
   "execution_count": 25,
   "id": "7124e81e",
   "metadata": {},
   "outputs": [],
   "source": [
    "# Merge action_movies to scifi_movies with right join\n",
    "action_scifi = action_movies.merge(scifi_movies, on = \"movie_id\", how = \"right\")"
   ]
  },
  {
   "cell_type": "markdown",
   "id": "51dfb41d",
   "metadata": {},
   "source": [
    "### 2.6.2 Instructions 2/4\n",
    "- Update the merge to add suffixes, where `'_act'` and `'_sci'` are suffixes for the left and right tables, respectively."
   ]
  },
  {
   "cell_type": "code",
   "execution_count": 26,
   "id": "af574ab3",
   "metadata": {},
   "outputs": [
    {
     "name": "stdout",
     "output_type": "stream",
     "text": [
      "  movie_id genre_act        genre_sci\n",
      "0       11    Action  Science Fiction\n",
      "1       18    Action  Science Fiction\n",
      "2       19       NaN  Science Fiction\n",
      "3       38       NaN  Science Fiction\n",
      "4       62       NaN  Science Fiction\n"
     ]
    }
   ],
   "source": [
    "# Merge action_movies to scifi_movies with right join\n",
    "action_scifi = action_movies.merge(scifi_movies, on='movie_id', how='right', suffixes = [\"_act\", \"_sci\"])\n",
    "\n",
    "# Print the first few rows of action_scifi to see the structure\n",
    "print(action_scifi.head())"
   ]
  },
  {
   "cell_type": "markdown",
   "id": "7481dbc2",
   "metadata": {},
   "source": [
    "### 2.6.3 Instructions 3/4\n",
    "- From `action_scifi`, subset only the rows where the `genre_act` column is null."
   ]
  },
  {
   "cell_type": "code",
   "execution_count": 27,
   "id": "9df1c773",
   "metadata": {},
   "outputs": [],
   "source": [
    "# Merge action_movies to the scifi_movies with right join\n",
    "action_scifi = action_movies.merge(scifi_movies, on='movie_id', how='right', suffixes=('_act','_sci'))\n",
    "\n",
    "# From action_scifi, select only the rows where the genre_act column is null\n",
    "scifi_only = action_scifi[action_scifi[\"genre_act\"].isnull()]"
   ]
  },
  {
   "cell_type": "markdown",
   "id": "39cc6f89",
   "metadata": {},
   "source": [
    "### 2.6.4 Instructions 4/4\n",
    "- Merge `movies` and `scifi_only` using the `id` column in the left table and the `movie_id` column in the right table with an inner join."
   ]
  },
  {
   "cell_type": "code",
   "execution_count": 28,
   "id": "f3e7b579",
   "metadata": {},
   "outputs": [
    {
     "name": "stdout",
     "output_type": "stream",
     "text": [
      "      id                         title popularity release_date movie_id  \\\n",
      "0  18841  The Lost Skeleton of Cadavra   1.680525   2001-09-12    18841   \n",
      "1  26672     The Thief and the Cobbler   2.439184   1993-09-23    26672   \n",
      "2  15301      Twilight Zone: The Movie  12.902975   1983-06-24    15301   \n",
      "3   8452                   The 6th Day  18.447479   2000-11-17     8452   \n",
      "4   1649    Bill & Ted's Bogus Journey  11.349664   1991-07-19     1649   \n",
      "\n",
      "  genre_act        genre_sci  \n",
      "0       NaN  Science Fiction  \n",
      "1       NaN  Science Fiction  \n",
      "2       NaN  Science Fiction  \n",
      "3       NaN  Science Fiction  \n",
      "4       NaN  Science Fiction  \n",
      "(258, 7)\n"
     ]
    }
   ],
   "source": [
    "# Merge action_movies to the scifi_movies with right join\n",
    "action_scifi = action_movies.merge(scifi_movies, on='movie_id', how='right', suffixes=('_act','_sci'))\n",
    "\n",
    "# From action_scifi, select only the rows where the genre_act column is null\n",
    "scifi_only = action_scifi[action_scifi['genre_act'].isnull()]\n",
    "\n",
    "# Merge the movies and scifi_only tables with an inner join\n",
    "movies_and_scifi_only = movies.merge(scifi_only, left_on = \"id\", right_on = \"movie_id\")\n",
    "\n",
    "# Print the first few rows and shape of movies_and_scifi_only\n",
    "print(movies_and_scifi_only.head())\n",
    "print(movies_and_scifi_only.shape)"
   ]
  },
  {
   "cell_type": "markdown",
   "id": "c3badbf0",
   "metadata": {},
   "source": [
    "## 2.7 Popular genres with right join\n",
    "What are the genres of the most popular movies? To answer this question, you need to merge data from the `movies` and `movie_to_genres` tables. In a table called `pop_movies`, the top 10 most popular movies in the `movies` table have been selected. To ensure that you are analyzing all of the popular movies, merge it with the `movie_to_genres` table using a right join. To complete your analysis, count the number of different genres. Also, the two tables can be merged by the movie ID. However, in `pop_movies` that column is called `id`, and in movies_to_genres it's called `movie_id`.\n",
    "\n",
    "The `pop_movies` and `movie_to_genres` tables have been loaded for you."
   ]
  },
  {
   "cell_type": "code",
   "execution_count": 29,
   "id": "61c61150",
   "metadata": {},
   "outputs": [],
   "source": [
    "pop_movies = pd.read_csv('datasets/pop_movies.csv')\n",
    "pop_movies = pop_movies.astype(str)"
   ]
  },
  {
   "cell_type": "markdown",
   "id": "b7bf1c54",
   "metadata": {},
   "source": [
    "### 2.7.1 Instructions\n",
    "- Merge `movie_to_genres` and `pop_movies` using a right join. Save the results as `genres_movies`.\n",
    "- Group `genres_movies` by `genre` and count the number of `id` values."
   ]
  },
  {
   "cell_type": "code",
   "execution_count": 30,
   "id": "b8848b68",
   "metadata": {},
   "outputs": [
    {
     "data": {
      "image/png": "[encoded data removed]",
      "text/plain": [
       "<Figure size 640x480 with 1 Axes>"
      ]
     },
     "metadata": {},
     "output_type": "display_data"
    }
   ],
   "source": [
    "import matplotlib.pyplot as plt\n",
    "\n",
    "# Use right join to merge the movie_to_genres and pop_movies tables\n",
    "genres_movies = movie_to_genres.merge(pop_movies, how='right', \n",
    "                                      left_on = \"movie_id\", \n",
    "                                      right_on = \"id\")\n",
    "\n",
    "# Count the number of genres\n",
    "genre_count = genres_movies.groupby('genre').agg({'id':'count'})\n",
    "\n",
    "# Plot a bar chart of the genre_count\n",
    "genre_count.plot(kind='bar')\n",
    "plt.show()"
   ]
  },
  {
   "cell_type": "markdown",
   "id": "ec6dea62",
   "metadata": {},
   "source": [
    "## 2.8 Using outer join to select actors\n",
    "One cool aspect of using an outer join is that, because it returns all rows from both merged tables and null where they do not match, you can use it to find rows that do not have a match in the other table. To try for yourself, you have been given two tables with a list of actors from two popular movies: Iron Man 1 and Iron Man 2. Most of the actors played in both movies. Use an outer join to find actors who **did not** act in both movies.\n",
    "\n",
    "The Iron Man 1 table is called `iron_1_actors`, and Iron Man 2 table is called `iron_2_actors`. Both tables have been loaded for you and a few rows printed so you can see the structure."
   ]
  },
  {
   "attachments": {
    "2.PNG": {
     "image/png": "[encoded data removed]"
    }
   },
   "cell_type": "markdown",
   "id": "3e9c7819",
   "metadata": {},
   "source": [
    "![2.PNG](attachment:2.PNG)"
   ]
  },
  {
   "cell_type": "code",
   "execution_count": 31,
   "id": "1f4f701a",
   "metadata": {},
   "outputs": [],
   "source": [
    "iron_1_actors = pd.read_csv('datasets/iron_1_actors.csv')\n",
    "iron_1_actors = iron_1_actors.astype(str)\n",
    "\n",
    "iron_2_actors = pd.read_csv('datasets/iron_2_actors.csv')\n",
    "iron_2_actors = iron_2_actors.astype(str)"
   ]
  },
  {
   "cell_type": "markdown",
   "id": "d2608e3a",
   "metadata": {},
   "source": [
    "### 2.8.1 Instructions\n",
    "- Save to `iron_1_and_2` the merge of `iron_1_actors` (left) with `iron_2_actors` tables with an outer join on the `id` column, and set suffixes to (`'_1'`,`'_2'`).\n",
    "- Create an index that returns `True` if `name_1` or `name_2` are null, and `False` otherwise"
   ]
  },
  {
   "cell_type": "code",
   "execution_count": 32,
   "id": "7f0e31e5",
   "metadata": {},
   "outputs": [
    {
     "name": "stdout",
     "output_type": "stream",
     "text": [
      "                   character_1      id           name_1 character_2 name_2\n",
      "0                       Yinsen   17857       Shaun Toub         NaN    NaN\n",
      "2  Obadiah Stane / Iron Monger    1229     Jeff Bridges         NaN    NaN\n",
      "3                  War Machine   18288  Terrence Howard         NaN    NaN\n",
      "5                         Raza   57452      Faran Tahir         NaN    NaN\n",
      "8                   Abu Bakaar  173810    Sayed Badreya         NaN    NaN\n"
     ]
    }
   ],
   "source": [
    "# Merge iron_1_actors to iron_2_actors on id with outer join using suffixes\n",
    "iron_1_and_2 = iron_1_actors.merge(iron_2_actors,\n",
    "                                     on = \"id\",\n",
    "                                     how = \"outer\",\n",
    "                                     suffixes=[\"_1\", \"_2\"])\n",
    "\n",
    "# Create an index that returns true if name_1 or name_2 are null\n",
    "m = ((iron_1_and_2['name_1'].isnull()) | \n",
    "     (iron_1_and_2['name_2'].isnull()))\n",
    "\n",
    "# Print the first few rows of iron_1_and_2\n",
    "print(iron_1_and_2[m].head())"
   ]
  },
  {
   "cell_type": "markdown",
   "id": "83abe0aa",
   "metadata": {},
   "source": [
    "## 2.9 Merging a table to itself"
   ]
  },
  {
   "cell_type": "markdown",
   "id": "ee823863",
   "metadata": {},
   "source": [
    "## 2.10 Self join\n",
    "Merging a table to itself can be useful when you want to compare values in a column to other values in the same column. In this exercise, you will practice this by creating a table that for each movie will list the movie director and a member of the crew on one row. You have been given a table called `crews`, which has columns `id`, `job`, and `name`. First, merge the table to itself using the movie ID. This merge will give you a larger table where for each movie, every job is matched against each other. Then select only those rows with a director in the left table, and avoid having a row where the director's job is listed in both the left and right tables. This filtering will remove job combinations that aren't with the director.\n",
    "\n",
    "The `crews` table has been loaded for you."
   ]
  },
  {
   "cell_type": "code",
   "execution_count": 33,
   "id": "cd458f55",
   "metadata": {},
   "outputs": [],
   "source": [
    "crews = pd.read_pickle('datasets/crews.p')\n",
    "crews = crews.astype(str)"
   ]
  },
  {
   "cell_type": "markdown",
   "id": "0481b0a5",
   "metadata": {},
   "source": [
    "### 2.10.1 Instructions 1/3\n",
    "- To a variable called `crews_self_merged`, merge the `crews` table to itself on the `id` column using an inner join, setting the suffixes to `'_dir'` and `'_crew'` for the left and right tables respectively."
   ]
  },
  {
   "cell_type": "code",
   "execution_count": 34,
   "id": "6181d92d",
   "metadata": {},
   "outputs": [],
   "source": [
    "# Merge the crews table to itself\n",
    "crews_self_merged = crews.merge(crews, on = \"id\", suffixes = [\"_dir\", \"_crew\"])"
   ]
  },
  {
   "cell_type": "markdown",
   "id": "1397a9bf",
   "metadata": {},
   "source": [
    "### 2.10.2 Instructions 2/3\n",
    "- Create a Boolean index, named `boolean_filter`, that selects rows from the left table with the job of `'Director'` and avoids rows with the job of `'Director'` in the right table."
   ]
  },
  {
   "cell_type": "code",
   "execution_count": 35,
   "id": "2bbd3f29",
   "metadata": {},
   "outputs": [],
   "source": [
    "# Merge the crews table to itself\n",
    "crews_self_merged = crews.merge(crews, on='id', how='inner', suffixes=('_dir','_crew'))\n",
    "\n",
    "# Create a Boolean index to select the appropriate\n",
    "boolean_filter = ((crews_self_merged['job_dir'] == \"Director\") & (crews_self_merged['job_crew'] != 'Director'))\n",
    "direct_crews = crews_self_merged[boolean_filter]"
   ]
  },
  {
   "cell_type": "markdown",
   "id": "0814abd6",
   "metadata": {},
   "source": [
    "### 2.10.3 Instructions 3/3\n",
    "- Use the `.head()` method to print the first few rows of `direct_crews`."
   ]
  },
  {
   "cell_type": "code",
   "execution_count": 36,
   "id": "c0a10ddd",
   "metadata": {},
   "outputs": [
    {
     "name": "stdout",
     "output_type": "stream",
     "text": [
      "        id department_dir   job_dir       name_dir department_crew  \\\n",
      "156  19995      Directing  Director  James Cameron         Editing   \n",
      "157  19995      Directing  Director  James Cameron           Sound   \n",
      "158  19995      Directing  Director  James Cameron      Production   \n",
      "160  19995      Directing  Director  James Cameron         Writing   \n",
      "161  19995      Directing  Director  James Cameron             Art   \n",
      "\n",
      "           job_crew          name_crew  \n",
      "156          Editor  Stephen E. Rivkin  \n",
      "157  Sound Designer  Christopher Boyes  \n",
      "158         Casting          Mali Finn  \n",
      "160          Writer      James Cameron  \n",
      "161    Set Designer    Richard F. Mays  \n"
     ]
    }
   ],
   "source": [
    "# Merge the crews table to itself\n",
    "crews_self_merged = crews.merge(crews, on='id', how='inner', suffixes=('_dir','_crew'))\n",
    "\n",
    "# Create a boolean index to select the appropriate rows\n",
    "boolean_filter = ((crews_self_merged['job_dir'] == 'Director') & (crews_self_merged['job_crew'] != 'Director'))\n",
    "direct_crews = crews_self_merged[boolean_filter]\n",
    "\n",
    "# Print the first few rows of direct_crews\n",
    "print(direct_crews.head())"
   ]
  },
  {
   "cell_type": "markdown",
   "id": "f42f30bd",
   "metadata": {},
   "source": [
    "## 2.11 How does pandas handle self joins?\n",
    "Select the false statement about merging a table to itself."
   ]
  },
  {
   "cell_type": "markdown",
   "id": "dd8d59de",
   "metadata": {},
   "source": [
    "### 2.11.1 Instructions\n",
    "### Possible Answers\n",
    "- [ ] You can merge a table to itself with a right join.\n",
    "- [ ] Merging a table to itself can allow you to compare values in a column to other values in the same column.\n",
    "- [x] The pandas module limits you to one merge where you merge a table to itself. You cannot repeat this process over and over.\n",
    "- [ ] Merging a table to itself is like working with two separate tables."
   ]
  },
  {
   "cell_type": "markdown",
   "id": "6bb3adf1",
   "metadata": {},
   "source": [
    "## 2.12 Merging on indexes"
   ]
  },
  {
   "cell_type": "markdown",
   "id": "3c456491",
   "metadata": {},
   "source": [
    "## 2.13 Index merge for movie ratings\n",
    "To practice merging on indexes, you will merge `movies` and a table called `ratings` that holds info about movie ratings. Make sure your merge returns all of the rows from the `movies` table and not all the rows of `ratings` table need to be included in the result.\n",
    "\n",
    "The `movies` and `ratings` tables have been loaded for you."
   ]
  },
  {
   "cell_type": "code",
   "execution_count": 37,
   "id": "dddd79ac",
   "metadata": {},
   "outputs": [],
   "source": [
    "ratings = pd.read_pickle('datasets/ratings.p')\n",
    "ratings = ratings.astype(str)"
   ]
  },
  {
   "cell_type": "markdown",
   "id": "116661ca",
   "metadata": {},
   "source": [
    "### 2.13.1 Instructions\n",
    "- Merge `movies` and `ratings` on the index and save to a variable called `movies_ratings`, ensuring that all of the rows from the `movies` table are returned."
   ]
  },
  {
   "cell_type": "code",
   "execution_count": 38,
   "id": "6dc34a79",
   "metadata": {},
   "outputs": [
    {
     "name": "stdout",
     "output_type": "stream",
     "text": [
      "      id                 title          popularity release_date vote_average  \\\n",
      "0    257          Oliver Twist           20.415572   2005-09-23          6.7   \n",
      "1  14290  Better Luck Tomorrow            3.877036   2002-01-12          6.5   \n",
      "2  38365             Grown Ups           38.864027   2010-06-24          6.0   \n",
      "3   9672              Infamous  3.6808959999999997   2006-11-16          6.4   \n",
      "4  12819       Alpha and Omega           12.300789   2010-09-17          5.3   \n",
      "\n",
      "  vote_count  \n",
      "0      274.0  \n",
      "1       27.0  \n",
      "2     1705.0  \n",
      "3       60.0  \n",
      "4      124.0  \n"
     ]
    }
   ],
   "source": [
    "# Merge to the movies table the ratings table on the index\n",
    "movies_ratings = movies.merge(ratings, on = 'id')\n",
    "\n",
    "# Print the first few rows of movies_ratings\n",
    "print(movies_ratings.head())"
   ]
  },
  {
   "cell_type": "markdown",
   "id": "2e7da4d0",
   "metadata": {},
   "source": [
    "## 2.14 Do sequels earn more?\n",
    "It is time to put together many of the aspects that you have learned in this chapter. In this exercise, you'll find out which movie sequels earned the most compared to the original movie. To answer this question, you will merge a modified version of the `sequels` and `financials` tables where their index is the movie ID. You will need to choose a merge type that will return all of the rows from the `sequels` table and not all the rows of `financials` table need to be included in the result. From there, you will join the resulting table to itself so that you can compare the revenue values of the original movie to the sequel. Next, you will calculate the difference between the two revenues and sort the resulting dataset.\n",
    "\n",
    "The `sequels` and `financials` tables have been provided."
   ]
  },
  {
   "cell_type": "code",
   "execution_count": 39,
   "id": "a4fcff90",
   "metadata": {},
   "outputs": [],
   "source": [
    "financials = pd.read_pickle('datasets/financials.p')\n",
    "sequels = pd.read_pickle('datasets/sequels.p')"
   ]
  },
  {
   "cell_type": "markdown",
   "id": "8848265a",
   "metadata": {},
   "source": [
    "### 2.14.1 Instructions 1/4\n",
    "- With the `sequels` table on the left, merge to it the `financials` table on index named `id`, ensuring that all the rows from the `sequels` are returned and some rows from the other table may not be returned, Save the results to `sequels_fin`."
   ]
  },
  {
   "cell_type": "code",
   "execution_count": 40,
   "id": "71ee1b0e",
   "metadata": {},
   "outputs": [],
   "source": [
    "# Merge sequels and financials on index id\n",
    "sequels_fin = sequels.merge(financials, on = 'id', how = 'left')"
   ]
  },
  {
   "cell_type": "markdown",
   "id": "939aaffd",
   "metadata": {},
   "source": [
    "### 2.14.2 Instructions 2/4\n",
    "- Merge the `sequels_fin` table to itself with an inner join, where the left and right tables merge on `sequel` and `id` respectively with suffixes equal to `('_org','_seq')`, saving to `orig_seq`."
   ]
  },
  {
   "cell_type": "code",
   "execution_count": 41,
   "id": "45493159",
   "metadata": {},
   "outputs": [],
   "source": [
    "# Merge sequels and financials on index id\n",
    "sequels_fin = sequels.merge(financials, on='id', how='left')\n",
    "\n",
    "# Self merge with suffixes as inner join with left on sequel and right on id\n",
    "orig_seq = sequels_fin.merge(sequels_fin, how='inner', left_on='sequel', \n",
    "                             right_on='id', right_index=False,\n",
    "                             suffixes=['_org', '_seq'])\n",
    "\n",
    "# Add calculation to subtract revenue_org from revenue_seq \n",
    "orig_seq['diff'] = orig_seq['revenue_seq'] - orig_seq['revenue_org']"
   ]
  },
  {
   "cell_type": "markdown",
   "id": "1238dcc0",
   "metadata": {},
   "source": [
    "### 2.14.3 Instructions 3/4\n",
    "- Select the `title_org`, `title_seq`, and `diff` columns of `orig_seq` and save this as `titles_diff`."
   ]
  },
  {
   "cell_type": "code",
   "execution_count": 42,
   "id": "334358f0",
   "metadata": {},
   "outputs": [],
   "source": [
    "# Merge sequels and financials on index id\n",
    "sequels_fin = sequels.merge(financials, on='id', how='left')\n",
    "\n",
    "# Self merge with suffixes as inner join with left on sequel and right on id\n",
    "orig_seq = sequels_fin.merge(sequels_fin, how='inner', left_on='sequel', \n",
    "                             right_on='id', right_index=False,\n",
    "                             suffixes=('_org','_seq'))\n",
    "\n",
    "# Add calculation to subtract revenue_org from revenue_seq \n",
    "orig_seq['diff'] = orig_seq['revenue_seq'] - orig_seq['revenue_org']\n",
    "\n",
    "# Select the title_org, title_seq, and diff \n",
    "titles_diff = orig_seq[['title_org', 'title_seq', 'diff']]"
   ]
  },
  {
   "cell_type": "markdown",
   "id": "86165fce",
   "metadata": {},
   "source": [
    "### 2.14.4 Instructions 4/4\n",
    "- Sort by `titles_diff` by `diff` in descending order and print the first few rows."
   ]
  },
  {
   "cell_type": "code",
   "execution_count": 43,
   "id": "a87e90c0",
   "metadata": {},
   "outputs": [
    {
     "name": "stdout",
     "output_type": "stream",
     "text": [
      "            title_org        title_seq          diff\n",
      "28  Jurassic Park III   Jurassic World  1.144748e+09\n",
      "26      Batman Begins  The Dark Knight  6.303398e+08\n",
      "11         Iron Man 2       Iron Man 3  5.915067e+08\n",
      "1         Toy Story 2      Toy Story 3  5.696028e+08\n",
      "14  Quantum of Solace          Skyfall  5.224703e+08\n"
     ]
    }
   ],
   "source": [
    "# Merge sequels and financials on index id\n",
    "sequels_fin = sequels.merge(financials, on='id', how='left')\n",
    "\n",
    "# Self merge with suffixes as inner join with left on sequel and right on id\n",
    "orig_seq = sequels_fin.merge(sequels_fin, how='inner', left_on='sequel', \n",
    "                             right_on='id', right_index=False,\n",
    "                             suffixes=('_org','_seq'))\n",
    "\n",
    "# Add calculation to subtract revenue_org from revenue_seq \n",
    "orig_seq['diff'] = orig_seq['revenue_seq'] - orig_seq['revenue_org']\n",
    "\n",
    "# Select the title_org, title_seq, and diff \n",
    "titles_diff = orig_seq[['title_org','title_seq','diff']]\n",
    "\n",
    "# Print the first rows of the sorted titles_diff\n",
    "print(titles_diff.sort_values('diff', ascending = False).head())"
   ]
  },
  {
   "cell_type": "markdown",
   "id": "77480102",
   "metadata": {},
   "source": [
    "# 3 Advanced Merging and Concatenating\n",
    "In this chapter, you’ll leverage powerful filtering techniques, including semi-joins and anti-joins. You’ll also learn how to glue DataFrames by vertically combining and using the pandas.concat function to create new datasets. Finally, because data is rarely clean, you’ll also learn how to validate your newly combined data structures."
   ]
  },
  {
   "cell_type": "markdown",
   "id": "6f9340b4",
   "metadata": {},
   "source": [
    "## 3.1 Filtering joins"
   ]
  },
  {
   "cell_type": "markdown",
   "id": "93036e08",
   "metadata": {},
   "source": [
    "## 3.2 Steps of a semi join\n",
    "In the last video, you were shown how to perform a semi join with `pandas`. In this exercise, you'll solidify your understanding of the necessary steps. Recall that a semi join filters the left table to only the rows where a match exists in both the left and right tables."
   ]
  },
  {
   "cell_type": "markdown",
   "id": "b1b248c3",
   "metadata": {},
   "source": [
    "### 3.2.1 Instructions\n",
    "- Sort the steps in the correct order of the technique shown to perform a semi join in `pandas`.\n",
    "\n",
    "1. Merge the left and right tables on key column using inner join\n",
    "2. Search if the key column in the merged tables using the .isin() method creating a Boolean Series.\n",
    "3. Subset the rows of the left table."
   ]
  },
  {
   "cell_type": "markdown",
   "id": "6a6b08ec",
   "metadata": {},
   "source": [
    "## 3.3 Performing an anti join\n",
    "In our music streaming company dataset, each customer is assigned an employee representative to assist them. In this exercise, filter the employee table by a table of top customers, returning only those employees who are not assigned to a customer. The results should resemble the results of an anti join. The company's leadership will assign these employees additional training so that they can work with high valued customers.\n",
    "\n",
    "The `top_cust` and `employees` tables have been provided for you."
   ]
  },
  {
   "cell_type": "code",
   "execution_count": 44,
   "id": "bc26d80b",
   "metadata": {},
   "outputs": [],
   "source": [
    "employees = pd.read_csv('datasets/employees.csv')\n",
    "employees = employees.astype(str)\n",
    "\n",
    "top_cust = pd.read_csv('datasets/top_cust.csv')\n",
    "top_cust = top_cust.astype(str)"
   ]
  },
  {
   "cell_type": "markdown",
   "id": "ae296991",
   "metadata": {},
   "source": [
    "### 3.3.1 Instructions 1/3\n",
    "- Merge `employees` and `top_cust` with a left join, setting `indicator` argument to True. Save the result to `empl_cust`."
   ]
  },
  {
   "cell_type": "code",
   "execution_count": 45,
   "id": "19133620",
   "metadata": {},
   "outputs": [],
   "source": [
    "# Merge employees and top_cust\n",
    "empl_cust = employees.merge(top_cust, on = 'srid', \n",
    "                            how = 'left', indicator = True)"
   ]
  },
  {
   "cell_type": "markdown",
   "id": "244e197e",
   "metadata": {},
   "source": [
    "### 3.3.2 Instructions 2/3\n",
    "- Select the `srid` column of `empl_cust` and the rows where` _merge` is `'left_only'`. Save the result to `srid_list`."
   ]
  },
  {
   "cell_type": "code",
   "execution_count": 46,
   "id": "cbb39c32",
   "metadata": {},
   "outputs": [],
   "source": [
    "# Merge employees and top_cust\n",
    "empl_cust = employees.merge(top_cust, on='srid', \n",
    "                            how='left', indicator=True)\n",
    "\n",
    "# Select the srid column where _merge is left_only\n",
    "srid_list = empl_cust.loc[empl_cust['_merge'] == 'left_only', 'srid']"
   ]
  },
  {
   "cell_type": "markdown",
   "id": "a7bd9622",
   "metadata": {},
   "source": [
    "### 3.3.3 Instructions 3/3\n",
    "- Subset the `employees` table and select those rows where the `srid` is in the variable `srid_list` and print the results."
   ]
  },
  {
   "cell_type": "code",
   "execution_count": 47,
   "id": "e9e25788",
   "metadata": {
    "scrolled": true
   },
   "outputs": [
    {
     "name": "stdout",
     "output_type": "stream",
     "text": [
      "  srid     lname    fname            title  hire_date                    email\n",
      "0    1     Adams   Andrew  General Manager 2002-08-14   andrew@chinookcorp.com\n",
      "1    2   Edwards       cy    Sales Manager 2002-05-01       cy@chinookcorp.com\n",
      "5    6  Mitchell  Michael       IT Manager 2003-10-17  michael@chinookcorp.com\n",
      "6    7      King   Robert         IT Staff 2004-01-02   robert@chinookcorp.com\n",
      "7    8  Callahan    Laura         IT Staff 2004-03-04    laura@chinookcorp.com\n"
     ]
    }
   ],
   "source": [
    "# Merge employees and top_cust\n",
    "empl_cust = employees.merge(top_cust, on='srid', \n",
    "                                 how='left', indicator=True)\n",
    "\n",
    "# Select the srid column where _merge is left_only\n",
    "srid_list = empl_cust.loc[empl_cust['_merge'] == 'left_only', 'srid']\n",
    "\n",
    "# Get employees not working with top customers\n",
    "print(employees[employees['srid'].isin(srid_list)])"
   ]
  },
  {
   "cell_type": "markdown",
   "id": "9d25e0a7",
   "metadata": {},
   "source": [
    "## 3.4 Performing a semi join\n",
    "Some of the tracks that have generated the most significant amount of revenue are from TV-shows or are other non-musical audio. You have been given a table of invoices that include top revenue-generating items. Additionally, you have a table of non-musical tracks from the streaming service. In this exercise, you'll use a semi join to find the top revenue-generating non-musical tracks..\n",
    "\n",
    "The tables `non_mus_tcks`, `top_invoices`, and `genres` have been loaded for you."
   ]
  },
  {
   "cell_type": "code",
   "execution_count": 48,
   "id": "5174866f",
   "metadata": {},
   "outputs": [],
   "source": [
    "non_mus_tcks = pd.read_csv('datasets/non_mus_tcks.csv')\n",
    "non_mus_tcks = non_mus_tcks.astype(str)\n",
    "\n",
    "top_invoices = pd.read_csv('datasets/top_invoices.csv')\n",
    "top_invoices = top_invoices.astype(str)\n",
    "\n",
    "genres = pd.read_csv('datasets/genres.csv')\n",
    "genres = genres.astype(str)"
   ]
  },
  {
   "cell_type": "markdown",
   "id": "2d77afd7",
   "metadata": {},
   "source": [
    "### 3.4.1 Instructions\n",
    "- Merge `non_mus_tcks` and `top_invoices` on `tid` using an inner join. Save the result as `tracks_invoices`.\n",
    "- Use `.isin()` to subset the rows of `non_mus_tck` where `tid` is in the `tid` column of `tracks_invoices`. Save the result as `top_tracks`.\n",
    "- Group `top_tracks` by `gid` and count the `tid` rows. Save the result to `cnt_by_gid`.\n",
    "- Merge `cnt_by_gid` with the `genres` table on `gid` and print the result."
   ]
  },
  {
   "cell_type": "code",
   "execution_count": 49,
   "id": "2d0fb54c",
   "metadata": {},
   "outputs": [
    {
     "name": "stdout",
     "output_type": "stream",
     "text": [
      "  gid  tid\n",
      "0  19    4\n",
      "1  21    2\n",
      "2  22    1\n"
     ]
    }
   ],
   "source": [
    "# Merge the non_mus_tck and top_invoices tables on tid\n",
    "tracks_invoices = non_mus_tcks.merge(top_invoices, on = 'tid')\n",
    "\n",
    "# Use .isin() to subset non_mus_tcks to rows with tid in tracks_invoices\n",
    "top_tracks = non_mus_tcks[non_mus_tcks['tid'].isin(tracks_invoices['tid'])]\n",
    "\n",
    "# Group the top_tracks by gid and count the tid rows\n",
    "cnt_by_gid = top_tracks.groupby(['gid'], as_index=False).agg({'tid':'count'})\n",
    "\n",
    "# Merge the genres table to cnt_by_gid on gid and print\n",
    "print(cnt_by_gid.merge(genres, on = 'gid'))"
   ]
  },
  {
   "cell_type": "markdown",
   "id": "046c0775",
   "metadata": {},
   "source": [
    "## 3.5 Concatenate DataFrames together vertically"
   ]
  },
  {
   "cell_type": "markdown",
   "id": "87423466",
   "metadata": {},
   "source": [
    "## 3.6 Concatenation basics\n",
    "You have been given a few tables of data with musical track info for different albums from the metal band, Metallica. The track info comes from their Ride The Lightning, Master Of Puppets, and St. Anger albums. Try various features of the `.concat()` method by concatenating the tables vertically together in different ways.\n",
    "\n",
    "The tables `tracks_master`, `tracks_ride`, and `tracks_st` have loaded for you."
   ]
  },
  {
   "cell_type": "code",
   "execution_count": 50,
   "id": "81a0d4ec",
   "metadata": {},
   "outputs": [],
   "source": [
    "tracks_master = pd.read_csv('datasets/tracks_master.csv')\n",
    "tracks_master = tracks_master.astype(str)\n",
    "\n",
    "tracks_ride = pd.read_csv('datasets/tracks_ride.csv')\n",
    "tracks_ride = tracks_ride.astype(str)\n",
    "\n",
    "tracks_st = pd.read_csv('datasets/tracks_st.csv')\n",
    "tracks_st = tracks_st.astype(str)"
   ]
  },
  {
   "cell_type": "markdown",
   "id": "43c5012c",
   "metadata": {},
   "source": [
    "### 3.6.1 Instructions 1/3\n",
    "- Concatenate `tracks_master`, `tracks_ride`, and `tracks_st`, in that order, setting `sort` to `True`."
   ]
  },
  {
   "cell_type": "code",
   "execution_count": 51,
   "id": "e17b0646",
   "metadata": {},
   "outputs": [
    {
     "name": "stdout",
     "output_type": "stream",
     "text": [
      "   aid gid mtid                     name   tid u_price\n",
      "0  155   3    1                  Frantic  1882    0.99\n",
      "1  155   3    1                St. Anger  1883    0.99\n",
      "2  155   3    1     Some Kind Of Monster  1884    0.99\n",
      "3  155   3    1             Dirty Window  1885    0.99\n",
      "4  155   3    1            Invisible Kid  1886     0.9\n",
      "0  154   3    1     Fight Fire With Fire  1874    0.99\n",
      "1  154   3    1       Ride The Lightning  1875    0.99\n",
      "2  154   3    1  For Whom The Bell Tolls  1876    0.99\n",
      "3  154   3    1            Fade To Black  1877    0.99\n",
      "4  154   3    1        Trapped Under Ice  1878    0.99\n",
      "0  155   3    1                  Frantic  1882    0.99\n",
      "1  155   3    1                St. Anger  1883    0.99\n",
      "2  155   3    1     Some Kind Of Monster  1884    0.99\n",
      "3  155   3    1             Dirty Window  1885    0.99\n",
      "4  155   3    1            Invisible Kid  1886    0.99\n"
     ]
    }
   ],
   "source": [
    "# Concatenate the tracks\n",
    "tracks_from_albums = pd.concat([tracks_master, tracks_ride, tracks_st], sort = True)\n",
    "print(tracks_from_albums)"
   ]
  },
  {
   "cell_type": "markdown",
   "id": "7f99fbfe",
   "metadata": {},
   "source": [
    "### 3.6.2 Instructions 2/3\n",
    "- Concatenate `tracks_master`, `tracks_ride`, and `tracks_st`, where the index goes from 0 to n-1."
   ]
  },
  {
   "cell_type": "code",
   "execution_count": 52,
   "id": "10fd4ea7",
   "metadata": {},
   "outputs": [
    {
     "name": "stdout",
     "output_type": "stream",
     "text": [
      "    aid gid mtid                     name   tid u_price\n",
      "0   155   3    1                  Frantic  1882    0.99\n",
      "1   155   3    1                St. Anger  1883    0.99\n",
      "2   155   3    1     Some Kind Of Monster  1884    0.99\n",
      "3   155   3    1             Dirty Window  1885    0.99\n",
      "4   155   3    1            Invisible Kid  1886     0.9\n",
      "5   154   3    1     Fight Fire With Fire  1874    0.99\n",
      "6   154   3    1       Ride The Lightning  1875    0.99\n",
      "7   154   3    1  For Whom The Bell Tolls  1876    0.99\n",
      "8   154   3    1            Fade To Black  1877    0.99\n",
      "9   154   3    1        Trapped Under Ice  1878    0.99\n",
      "10  155   3    1                  Frantic  1882    0.99\n",
      "11  155   3    1                St. Anger  1883    0.99\n",
      "12  155   3    1     Some Kind Of Monster  1884    0.99\n",
      "13  155   3    1             Dirty Window  1885    0.99\n",
      "14  155   3    1            Invisible Kid  1886    0.99\n"
     ]
    }
   ],
   "source": [
    "# Concatenate the tracks so the index goes from 0 to n-1\n",
    "tracks_from_albums = pd.concat([tracks_master, tracks_ride, tracks_st],\n",
    "                               ignore_index = True,\n",
    "                               sort=True)\n",
    "print(tracks_from_albums)"
   ]
  },
  {
   "cell_type": "markdown",
   "id": "1ce345b4",
   "metadata": {},
   "source": [
    "### 3.6.3 Instructions 3/3\n",
    "- Concatenate `tracks_master`, `tracks_ride`, and `tracks_st`, showing only columns that are in all tables."
   ]
  },
  {
   "cell_type": "code",
   "execution_count": 53,
   "id": "a253e966",
   "metadata": {},
   "outputs": [
    {
     "name": "stdout",
     "output_type": "stream",
     "text": [
      "   aid gid mtid                     name   tid u_price\n",
      "0  155   3    1                  Frantic  1882    0.99\n",
      "1  155   3    1                St. Anger  1883    0.99\n",
      "2  155   3    1     Some Kind Of Monster  1884    0.99\n",
      "3  155   3    1             Dirty Window  1885    0.99\n",
      "4  155   3    1            Invisible Kid  1886     0.9\n",
      "0  154   3    1     Fight Fire With Fire  1874    0.99\n",
      "1  154   3    1       Ride The Lightning  1875    0.99\n",
      "2  154   3    1  For Whom The Bell Tolls  1876    0.99\n",
      "3  154   3    1            Fade To Black  1877    0.99\n",
      "4  154   3    1        Trapped Under Ice  1878    0.99\n",
      "0  155   3    1                  Frantic  1882    0.99\n",
      "1  155   3    1                St. Anger  1883    0.99\n",
      "2  155   3    1     Some Kind Of Monster  1884    0.99\n",
      "3  155   3    1             Dirty Window  1885    0.99\n",
      "4  155   3    1            Invisible Kid  1886    0.99\n"
     ]
    }
   ],
   "source": [
    "# Concatenate the tracks, show only columns names that are in all tables\n",
    "tracks_from_albums = pd.concat([tracks_master, tracks_ride, tracks_st],\n",
    "                               join = 'inner',\n",
    "                               sort=True)\n",
    "print(tracks_from_albums)"
   ]
  },
  {
   "cell_type": "markdown",
   "id": "8769c165",
   "metadata": {},
   "source": [
    "## 3.7 Concatenating with keys\n",
    "The leadership of the music streaming company has come to you and asked you for assistance in analyzing sales for a recent business quarter. They would like to know which month in the quarter saw the highest average invoice total. You have been given three tables with invoice data named `inv_jul`, `inv_aug`, and `inv_sep`. Concatenate these tables into one to create a graph of the average monthly invoice total."
   ]
  },
  {
   "cell_type": "code",
   "execution_count": 54,
   "id": "d20d6d7c",
   "metadata": {},
   "outputs": [],
   "source": [
    "inv_jul = pd.read_csv('datasets/inv_jul.csv')\n",
    "inv_aug = pd.read_csv('datasets/inv_aug.csv')\n",
    "inv_sep = pd.read_csv('datasets/inv_sep.csv')"
   ]
  },
  {
   "cell_type": "markdown",
   "id": "76892d09",
   "metadata": {},
   "source": [
    "### 3.7.1 Instructions\n",
    "- Concatenate the three tables together vertically in order with the oldest month first, adding `'7Jul'`, `'8Aug'`, and `'9Sep'` as `keys` for their respective months, and save to variable `avg_inv_by_month`.\n",
    "- Use the `.agg()` method to find the average of the total column from the grouped invoices.\n",
    "- Create a bar chart of `avg_inv_by_month`."
   ]
  },
  {
   "cell_type": "code",
   "execution_count": 55,
   "id": "1785b42a",
   "metadata": {
    "scrolled": true
   },
   "outputs": [
    {
     "data": {
      "image/png": "[encoded data removed]",
      "text/plain": [
       "<Figure size 640x480 with 1 Axes>"
      ]
     },
     "metadata": {},
     "output_type": "display_data"
    },
    {
     "data": {
      "text/plain": [
       "<Figure size 500x300 with 0 Axes>"
      ]
     },
     "metadata": {},
     "output_type": "display_data"
    }
   ],
   "source": [
    "# Concatenate the tables and add keys\n",
    "inv_jul_thr_sep = pd.concat([inv_jul, inv_aug, inv_sep], \n",
    "                            keys=['7Jul', '8Aug', '9Sep'])\n",
    "\n",
    "# Group the invoices by the index keys and find avg of the total column\n",
    "avg_inv_by_month = inv_jul_thr_sep.groupby(level=0).agg({'total':'mean'})\n",
    "\n",
    "# Bar plot of avg_inv_by_month\n",
    "avg_inv_by_month.plot(kind = 'bar')\n",
    "plt.figure(figsize=(5, 3))\n",
    "plt.show()"
   ]
  },
  {
   "cell_type": "markdown",
   "id": "692ea8f5",
   "metadata": {},
   "source": [
    "## 3.8 Using the append method\n",
    "The `.concat()` method is excellent when you need a lot of control over how concatenation is performed. However, if you do not need as much control, then the `.append()` method is another option. You'll try this method out by appending the track lists together from different Metallica albums. From there, you will merge it with the `invoice_items` table to determine which track sold the most.\n",
    "\n",
    "The tables `tracks_master`, `tracks_ride`, `tracks_st`, and `invoice_items` have loaded for you."
   ]
  },
  {
   "cell_type": "code",
   "execution_count": 56,
   "id": "9bdc3c2e",
   "metadata": {},
   "outputs": [],
   "source": [
    "invoice_items = pd.read_csv('datasets/invoice_items.csv')\n",
    "invoice_items = invoice_items.astype(str)"
   ]
  },
  {
   "cell_type": "markdown",
   "id": "5231078e",
   "metadata": {},
   "source": [
    "### 3.8.1 Instructions\n",
    "- Use the `.append()` method to combine (in this order) `tracks_ride`, `tracks_master`, and `tracks_st` together vertically, and save to `metallica_tracks`.\n",
    "- Merge `metallica_tracks` and `invoice_items` on `tid` with an inner join, and save to `tracks_invoices`.\n",
    "- For each `tid` and name in `tracks_invoices`, sum the quantity sold column, and save as `tracks_sold`.\n",
    "- Sort `tracks_sold` in descending order by the `quantity` column, and print the table."
   ]
  },
  {
   "cell_type": "code",
   "execution_count": 57,
   "id": "1d7fc7b3",
   "metadata": {},
   "outputs": [
    {
     "name": "stdout",
     "output_type": "stream",
     "text": [
      "                             quantity\n",
      "tid  name                            \n",
      "1876 For Whom The Bell Tolls       11\n",
      "1882 Frantic                       11\n",
      "1884 Some Kind Of Monster          11\n",
      "1886 Invisible Kid                 11\n",
      "1875 Ride The Lightning             1\n",
      "1877 Fade To Black                  1\n"
     ]
    }
   ],
   "source": [
    "# Gets rid of the warning\n",
    "import warnings\n",
    "warnings.filterwarnings(\"ignore\")\n",
    "\n",
    "# Use the .append() method to combine the tracks tables\n",
    "metallica_tracks = tracks_ride.append([tracks_master, tracks_st], sort=False)\n",
    "\n",
    "# Merge metallica_tracks and invoice_items\n",
    "tracks_invoices = metallica_tracks.merge(invoice_items, on='tid')\n",
    "\n",
    "# For each tid and name sum the quantity sold\n",
    "tracks_sold = tracks_invoices.groupby(['tid','name']).agg({'quantity':'sum'})\n",
    "\n",
    "# Sort in decending order by quantity and print the results\n",
    "print(tracks_sold.sort_values(['quantity'], ascending=False))"
   ]
  },
  {
   "cell_type": "markdown",
   "id": "b85e35b3",
   "metadata": {},
   "source": [
    "## 3.9 Verifying integrity"
   ]
  },
  {
   "cell_type": "markdown",
   "id": "ff749ed4",
   "metadata": {},
   "source": [
    "## 3.10 Validating a merge\n",
    "You have been given 2 tables, `artists`, and `albums`. Use the IPython shell to merge them using `artists.merge(albums, on='artid').head()`. Adjust the `validate` argument to answer which statement is ***False***."
   ]
  },
  {
   "cell_type": "markdown",
   "id": "bd676f5b",
   "metadata": {},
   "source": [
    "### 3.10.1 Instructions\n",
    "### Possible Answers\n",
    "- [ ] You can use `'many_to_many'` without an error, since there is a duplicate key in one of the tables.\n",
    "- [ ] You can use `'one_to_many'` without error, since there is a duplicate key in the right table.\n",
    "- [x] You can use `'many_to_one'` without an error, since there is a duplicate key in the left table."
   ]
  },
  {
   "cell_type": "markdown",
   "id": "e565d759",
   "metadata": {},
   "source": [
    "## 3.11 Concatenate and merge to find common songs\n",
    "The senior leadership of the streaming service is requesting your help again. You are given the historical files for a popular playlist in the classical music genre in 2018 and 2019. Additionally, you are given a similar set of files for the most popular pop music genre playlist on the streaming service in 2018 and 2019. Your goal is to concatenate the respective files to make a large classical playlist table and overall popular music table. Then filter the classical music table using a semi join to return only the most popular classical music tracks.\n",
    "\n",
    "The tables `classic_18`, `classic_19`, and `pop_18`, `pop_19` have been loaded for you. Additionally, `pandas` has been loaded as `pd`."
   ]
  },
  {
   "cell_type": "code",
   "execution_count": 58,
   "id": "e370f92e",
   "metadata": {},
   "outputs": [],
   "source": [
    "classic_18 = pd.read_csv('datasets/classic_18.csv')\n",
    "classic_18 = classic_18.astype(str)\n",
    "\n",
    "classic_19 = pd.read_csv('datasets/classic_19.csv')\n",
    "classic_19 = classic_19.astype(str)\n",
    "\n",
    "pop_18 = pd.read_csv('datasets/pop_18.csv')\n",
    "pop_18 = pop_18.astype(str)\n",
    "\n",
    "pop_19 = pd.read_csv('datasets/pop_19.csv')\n",
    "pop_19 = pop_19.astype(str)"
   ]
  },
  {
   "cell_type": "markdown",
   "id": "189e917d",
   "metadata": {},
   "source": [
    "### 3.11.1 Instructions 1/2\n",
    "- Concatenate the `classic_18` and `classic_19` tables vertically where the index goes from 0 to n-1, and save to `classic_18_19`.\n",
    "- Concatenate the `pop_18` and `pop_19` tables vertically where the index goes from 0 to n-1, and save to `pop_18_19`."
   ]
  },
  {
   "cell_type": "code",
   "execution_count": 59,
   "id": "02a37077",
   "metadata": {},
   "outputs": [],
   "source": [
    "# Concatenate the classic tables vertically\n",
    "classic_18_19 = pd.concat([classic_18, classic_19], ignore_index = True)\n",
    "\n",
    "# Concatenate the pop tables vertically\n",
    "pop_18_19 = pd.concat([pop_18, pop_19], ignore_index = True)"
   ]
  },
  {
   "cell_type": "markdown",
   "id": "1dada6aa",
   "metadata": {},
   "source": [
    "### 3.11.2 Instructions 2/2\n",
    "- With `classic_18_19` on the left, merge it with `pop_18_19` on `tid` using an inner join.\n",
    "- Use `.isin()` to filter `classic_18_19` where `tid` is in `classic_pop`."
   ]
  },
  {
   "cell_type": "code",
   "execution_count": 60,
   "id": "a6ef61ce",
   "metadata": {},
   "outputs": [
    {
     "name": "stdout",
     "output_type": "stream",
     "text": [
      "   pid   tid\n",
      "3   12  3479\n",
      "10  12  3439\n",
      "21  12  3445\n",
      "23  12  3449\n",
      "48  12  3437\n",
      "50  12  3435\n"
     ]
    }
   ],
   "source": [
    "# Concatenate the classic tables vertically\n",
    "classic_18_19 = pd.concat([classic_18, classic_19], ignore_index=True)\n",
    "\n",
    "# Concatenate the pop tables vertically\n",
    "pop_18_19 = pd.concat([pop_18, pop_19], ignore_index=True)\n",
    "\n",
    "# Merge classic_18_19 with pop_18_19\n",
    "classic_pop = classic_18_19.merge(pop_18_19, on = 'tid')\n",
    "\n",
    "# Using .isin(), filter classic_18_19 rows where tid is in classic_pop\n",
    "popular_classic = classic_18_19[classic_18_19['tid'].isin(classic_pop['tid'])]\n",
    "\n",
    "# Print popular chart\n",
    "print(popular_classic)"
   ]
  },
  {
   "cell_type": "markdown",
   "id": "c1e6788c",
   "metadata": {},
   "source": [
    "# 4 Merging Ordered and Time-Series Data\n",
    "In this final chapter, you’ll step up a gear and learn to apply pandas' specialized methods for merging time-series and ordered data together with real-world financial and economic data from the city of Chicago. You’ll also learn how to query resulting tables using a SQL-style format, and unpivot data using the melt method."
   ]
  },
  {
   "cell_type": "markdown",
   "id": "e0a9d9c1",
   "metadata": {},
   "source": [
    "## 4.1 Using merge_ordered()"
   ]
  },
  {
   "cell_type": "markdown",
   "id": "00f91347",
   "metadata": {},
   "source": [
    "## 4.2 Correlation between GDP and S&P500\n",
    "In this exercise, you want to analyze stock returns from the S&P 500. You believe there may be a relationship between the returns of the S&P 500 and the GDP of the US. Merge the different datasets together to compute the correlation.\n",
    "\n",
    "Two tables have been provided for you, named `sp500`, and `gdp`. As always, `pandas` has been imported for you as `pd`."
   ]
  },
  {
   "cell_type": "code",
   "execution_count": 61,
   "id": "d58397f4",
   "metadata": {},
   "outputs": [],
   "source": [
    "gdp = pd.read_csv('datasets/gdp1.csv')\n",
    "gdp = gdp.astype(str)\n",
    "gdp.columns= gdp.columns.str.lower()\n",
    "\n",
    "sp500 = pd.read_csv('datasets/S&P500.csv')\n",
    "sp500 = sp500.astype(str)\n",
    "sp500.columns= sp500.columns.str.lower()"
   ]
  },
  {
   "cell_type": "markdown",
   "id": "f99767ff",
   "metadata": {},
   "source": [
    "### 4.2.1 Instructions 1/3\n",
    "- Use `merge_ordered()` to merge `gdp` and `sp500` using a left join on `year` and `date`. Save the results as `gdp_sp500`.\n",
    "- Print `gdp_sp500` and look at the returns for the year 2018."
   ]
  },
  {
   "cell_type": "code",
   "execution_count": 62,
   "id": "fdeca276",
   "metadata": {},
   "outputs": [
    {
     "name": "stdout",
     "output_type": "stream",
     "text": [
      "     country name country code     indicator name  year               gdp  \\\n",
      "0           China          CHN  GDP (current US$)  2010   6087160000000.0   \n",
      "1         Germany          DEU  GDP (current US$)  2010   3417090000000.0   \n",
      "2           Japan          JPN  GDP (current US$)  2010   5700100000000.0   \n",
      "3   United States          USA  GDP (current US$)  2010  14992100000000.0   \n",
      "4           China          CHN  GDP (current US$)  2011   7551500000000.0   \n",
      "5         Germany          DEU  GDP (current US$)  2011   3757700000000.0   \n",
      "6           Japan          JPN  GDP (current US$)  2011   6157460000000.0   \n",
      "7   United States          USA  GDP (current US$)  2011  15542600000000.0   \n",
      "8           China          CHN  GDP (current US$)  2012   8532230000000.0   \n",
      "9         Germany          DEU  GDP (current US$)  2012   3543980000000.0   \n",
      "10          Japan          JPN  GDP (current US$)  2012   6203210000000.0   \n",
      "11  United States          USA  GDP (current US$)  2012  16197000000000.0   \n",
      "12          China          CHN  GDP (current US$)  2012   8532230000000.0   \n",
      "13        Germany          DEU  GDP (current US$)  2012   3543980000000.0   \n",
      "14          Japan          JPN  GDP (current US$)  2012   6203210000000.0   \n",
      "15  United States          USA  GDP (current US$)  2012  16197000000000.0   \n",
      "16          China          CHN  GDP (current US$)  2013   9570410000000.0   \n",
      "17        Germany          DEU  GDP (current US$)  2013   3752510000000.0   \n",
      "18          Japan          JPN  GDP (current US$)  2013   5155720000000.0   \n",
      "19  United States          USA  GDP (current US$)  2013  16784800000000.0   \n",
      "20          China          CHN  GDP (current US$)  2014  10438500000000.0   \n",
      "21        Germany          DEU  GDP (current US$)  2014   3898730000000.0   \n",
      "22          Japan          JPN  GDP (current US$)  2014   4850410000000.0   \n",
      "23  United States          USA  GDP (current US$)  2014  17521700000000.0   \n",
      "24          China          CHN  GDP (current US$)  2015  11015500000000.0   \n",
      "25        Germany          DEU  GDP (current US$)  2015   3381390000000.0   \n",
      "26          Japan          JPN  GDP (current US$)  2015   4389480000000.0   \n",
      "27  United States          USA  GDP (current US$)  2015  18219300000000.0   \n",
      "28          China          CHN  GDP (current US$)  2016  11137900000000.0   \n",
      "29        Germany          DEU  GDP (current US$)  2016   3495160000000.0   \n",
      "30          Japan          JPN  GDP (current US$)  2016   4926670000000.0   \n",
      "31  United States          USA  GDP (current US$)  2016  18707200000000.0   \n",
      "32          China          CHN  GDP (current US$)  2017  12143500000000.0   \n",
      "33        Germany          DEU  GDP (current US$)  2017   3693200000000.0   \n",
      "34          Japan          JPN  GDP (current US$)  2017   4859950000000.0   \n",
      "35  United States          USA  GDP (current US$)  2017  19485400000000.0   \n",
      "36          China          CHN  GDP (current US$)  2018  13608200000000.0   \n",
      "37        Germany          DEU  GDP (current US$)  2018   3996760000000.0   \n",
      "38          Japan          JPN  GDP (current US$)  2018   4970920000000.0   \n",
      "39  United States          USA  GDP (current US$)  2018  20494100000000.0   \n",
      "\n",
      "    date returns  \n",
      "0   2010   12.78  \n",
      "1   2010   12.78  \n",
      "2   2010   12.78  \n",
      "3   2010   12.78  \n",
      "4   2011     0.0  \n",
      "5   2011     0.0  \n",
      "6   2011     0.0  \n",
      "7   2011     0.0  \n",
      "8   2012   13.41  \n",
      "9   2012   13.41  \n",
      "10  2012   13.41  \n",
      "11  2012   13.41  \n",
      "12  2012   13.41  \n",
      "13  2012   13.41  \n",
      "14  2012   13.41  \n",
      "15  2012   13.41  \n",
      "16  2013    29.6  \n",
      "17  2013    29.6  \n",
      "18  2013    29.6  \n",
      "19  2013    29.6  \n",
      "20  2014   11.39  \n",
      "21  2014   11.39  \n",
      "22  2014   11.39  \n",
      "23  2014   11.39  \n",
      "24  2015   -0.73  \n",
      "25  2015   -0.73  \n",
      "26  2015   -0.73  \n",
      "27  2015   -0.73  \n",
      "28  2016    9.54  \n",
      "29  2016    9.54  \n",
      "30  2016    9.54  \n",
      "31  2016    9.54  \n",
      "32  2017   19.42  \n",
      "33  2017   19.42  \n",
      "34  2017   19.42  \n",
      "35  2017   19.42  \n",
      "36   NaN     NaN  \n",
      "37   NaN     NaN  \n",
      "38   NaN     NaN  \n",
      "39   NaN     NaN  \n"
     ]
    }
   ],
   "source": [
    "# Use merge_ordered() to merge gdp and sp500 on year and date\n",
    "gdp_sp500 = pd.merge_ordered(gdp, sp500, left_on='year', right_on='date', how='left')\n",
    "\n",
    "# Print gdp_sp500\n",
    "print(gdp_sp500)"
   ]
  },
  {
   "cell_type": "markdown",
   "id": "a7ae738a",
   "metadata": {},
   "source": [
    "### 4.2.2 Instructions 2/3\n",
    "- Use `merge_ordered()`, again similar to before, to merge `gdp` and `sp500` use the function's ability to interpolate missing data to forward fill the missing value for returns, assigning this table to the variable `gdp_sp500`."
   ]
  },
  {
   "cell_type": "code",
   "execution_count": 63,
   "id": "9d5cb442",
   "metadata": {},
   "outputs": [
    {
     "name": "stdout",
     "output_type": "stream",
     "text": [
      "     country name country code     indicator name  year               gdp  \\\n",
      "0           China          CHN  GDP (current US$)  2010   6087160000000.0   \n",
      "1         Germany          DEU  GDP (current US$)  2010   3417090000000.0   \n",
      "2           Japan          JPN  GDP (current US$)  2010   5700100000000.0   \n",
      "3   United States          USA  GDP (current US$)  2010  14992100000000.0   \n",
      "4           China          CHN  GDP (current US$)  2011   7551500000000.0   \n",
      "5         Germany          DEU  GDP (current US$)  2011   3757700000000.0   \n",
      "6           Japan          JPN  GDP (current US$)  2011   6157460000000.0   \n",
      "7   United States          USA  GDP (current US$)  2011  15542600000000.0   \n",
      "8           China          CHN  GDP (current US$)  2012   8532230000000.0   \n",
      "9         Germany          DEU  GDP (current US$)  2012   3543980000000.0   \n",
      "10          Japan          JPN  GDP (current US$)  2012   6203210000000.0   \n",
      "11  United States          USA  GDP (current US$)  2012  16197000000000.0   \n",
      "12          China          CHN  GDP (current US$)  2012   8532230000000.0   \n",
      "13        Germany          DEU  GDP (current US$)  2012   3543980000000.0   \n",
      "14          Japan          JPN  GDP (current US$)  2012   6203210000000.0   \n",
      "15  United States          USA  GDP (current US$)  2012  16197000000000.0   \n",
      "16          China          CHN  GDP (current US$)  2013   9570410000000.0   \n",
      "17        Germany          DEU  GDP (current US$)  2013   3752510000000.0   \n",
      "18          Japan          JPN  GDP (current US$)  2013   5155720000000.0   \n",
      "19  United States          USA  GDP (current US$)  2013  16784800000000.0   \n",
      "20          China          CHN  GDP (current US$)  2014  10438500000000.0   \n",
      "21        Germany          DEU  GDP (current US$)  2014   3898730000000.0   \n",
      "22          Japan          JPN  GDP (current US$)  2014   4850410000000.0   \n",
      "23  United States          USA  GDP (current US$)  2014  17521700000000.0   \n",
      "24          China          CHN  GDP (current US$)  2015  11015500000000.0   \n",
      "25        Germany          DEU  GDP (current US$)  2015   3381390000000.0   \n",
      "26          Japan          JPN  GDP (current US$)  2015   4389480000000.0   \n",
      "27  United States          USA  GDP (current US$)  2015  18219300000000.0   \n",
      "28          China          CHN  GDP (current US$)  2016  11137900000000.0   \n",
      "29        Germany          DEU  GDP (current US$)  2016   3495160000000.0   \n",
      "30          Japan          JPN  GDP (current US$)  2016   4926670000000.0   \n",
      "31  United States          USA  GDP (current US$)  2016  18707200000000.0   \n",
      "32          China          CHN  GDP (current US$)  2017  12143500000000.0   \n",
      "33        Germany          DEU  GDP (current US$)  2017   3693200000000.0   \n",
      "34          Japan          JPN  GDP (current US$)  2017   4859950000000.0   \n",
      "35  United States          USA  GDP (current US$)  2017  19485400000000.0   \n",
      "36          China          CHN  GDP (current US$)  2018  13608200000000.0   \n",
      "37        Germany          DEU  GDP (current US$)  2018   3996760000000.0   \n",
      "38          Japan          JPN  GDP (current US$)  2018   4970920000000.0   \n",
      "39  United States          USA  GDP (current US$)  2018  20494100000000.0   \n",
      "\n",
      "    date returns  \n",
      "0   2010   12.78  \n",
      "1   2010   12.78  \n",
      "2   2010   12.78  \n",
      "3   2010   12.78  \n",
      "4   2011     0.0  \n",
      "5   2011     0.0  \n",
      "6   2011     0.0  \n",
      "7   2011     0.0  \n",
      "8   2012   13.41  \n",
      "9   2012   13.41  \n",
      "10  2012   13.41  \n",
      "11  2012   13.41  \n",
      "12  2012   13.41  \n",
      "13  2012   13.41  \n",
      "14  2012   13.41  \n",
      "15  2012   13.41  \n",
      "16  2013    29.6  \n",
      "17  2013    29.6  \n",
      "18  2013    29.6  \n",
      "19  2013    29.6  \n",
      "20  2014   11.39  \n",
      "21  2014   11.39  \n",
      "22  2014   11.39  \n",
      "23  2014   11.39  \n",
      "24  2015   -0.73  \n",
      "25  2015   -0.73  \n",
      "26  2015   -0.73  \n",
      "27  2015   -0.73  \n",
      "28  2016    9.54  \n",
      "29  2016    9.54  \n",
      "30  2016    9.54  \n",
      "31  2016    9.54  \n",
      "32  2017   19.42  \n",
      "33  2017   19.42  \n",
      "34  2017   19.42  \n",
      "35  2017   19.42  \n",
      "36  2017   19.42  \n",
      "37  2017   19.42  \n",
      "38  2017   19.42  \n",
      "39  2017   19.42  \n"
     ]
    }
   ],
   "source": [
    "# Use merge_ordered() to merge gdp and sp500, interpolate missing value\n",
    "gdp_sp500 = pd.merge_ordered(gdp, sp500, left_on='year', right_on='date', how='left',  fill_method='ffill')\n",
    "\n",
    "\n",
    "# Print gdp_sp500\n",
    "print (gdp_sp500)"
   ]
  },
  {
   "cell_type": "markdown",
   "id": "e3306e8b",
   "metadata": {},
   "source": [
    "### 4.2.3 Instructions 3/3\n",
    "- Subset the `gdp_sp500` table, select the `gdp` and `returns` columns, and save as `gdp_returns`.\n",
    "- Print the correlation matrix of the `gdp_returns` table."
   ]
  },
  {
   "cell_type": "code",
   "execution_count": 64,
   "id": "77fd2258",
   "metadata": {},
   "outputs": [
    {
     "name": "stdout",
     "output_type": "stream",
     "text": [
      "              gdp   returns\n",
      "gdp      1.000000  0.040669\n",
      "returns  0.040669  1.000000\n"
     ]
    }
   ],
   "source": [
    "# Use merge_ordered() to merge gdp and sp500, interpolate missing value\n",
    "gdp_sp500 = pd.merge_ordered(gdp, sp500, left_on='year', right_on='date', how='left',  fill_method='ffill')\n",
    "\n",
    "# Subset the gdp and returns columns\n",
    "gdp_returns = gdp_sp500[['gdp', 'returns']]\n",
    "gdp_returns = gdp_returns.astype(float)\n",
    "\n",
    "# Print gdp_returns correlation\n",
    "print (gdp_returns.corr())"
   ]
  },
  {
   "cell_type": "markdown",
   "id": "50f6e2d4",
   "metadata": {},
   "source": [
    "## 4.3 Phillips curve using merge_ordered()\n",
    "There is an economic theory developed by A. W. Phillips which states that inflation and unemployment have an inverse relationship. The theory claims that with economic growth comes inflation, which in turn should lead to more jobs and less unemployment.\n",
    "\n",
    "You will take two tables of data from the U.S. Bureau of Labor Statistics, containing unemployment and inflation data over different periods, and create a Phillips curve. The tables have different frequencies. One table has a data entry every six months, while the other has a data entry every month. You will need to use the entries where you have data within both tables.\n",
    "\n",
    "The tables `unemployment` and `inflation` have been loaded for you."
   ]
  },
  {
   "cell_type": "code",
   "execution_count": 65,
   "id": "70c80e45",
   "metadata": {},
   "outputs": [],
   "source": [
    "inflation = pd.read_csv('datasets/inflation.csv')\n",
    "unemployment = pd.read_csv('datasets/unemployment.csv')"
   ]
  },
  {
   "cell_type": "markdown",
   "id": "cb14a3f1",
   "metadata": {},
   "source": [
    "### 4.3.1 Instructions\n",
    "- Use `merge_ordered()` to merge the `inflation` and `unemployment` tables on `date` with an inner join, and save the results as `inflation_unemploy`.\n",
    "- Print the `inflation_unemploy` variable.\n",
    "- Using `inflation_unemploy`, create a scatter plot with `unemployment_rate` on the horizontal axis and `cpi` (inflation) on the vertical axis."
   ]
  },
  {
   "cell_type": "code",
   "execution_count": 66,
   "id": "95563589",
   "metadata": {
    "scrolled": true
   },
   "outputs": [
    {
     "name": "stdout",
     "output_type": "stream",
     "text": [
      "         date      cpi     seriesid                  data_type  \\\n",
      "0  2014-01-01  235.288  CUSR0000SA0  SEASONALLY ADJUSTED INDEX   \n",
      "1  2014-06-01  237.231  CUSR0000SA0  SEASONALLY ADJUSTED INDEX   \n",
      "2  2015-01-01  234.718  CUSR0000SA0  SEASONALLY ADJUSTED INDEX   \n",
      "3  2015-06-01  237.684  CUSR0000SA0  SEASONALLY ADJUSTED INDEX   \n",
      "4  2016-01-01  237.833  CUSR0000SA0  SEASONALLY ADJUSTED INDEX   \n",
      "5  2016-06-01  240.167  CUSR0000SA0  SEASONALLY ADJUSTED INDEX   \n",
      "6  2017-01-01  243.780  CUSR0000SA0  SEASONALLY ADJUSTED INDEX   \n",
      "7  2017-06-01  244.182  CUSR0000SA0  SEASONALLY ADJUSTED INDEX   \n",
      "8  2018-01-01  248.884  CUSR0000SA0  SEASONALLY ADJUSTED INDEX   \n",
      "9  2018-06-01  251.134  CUSR0000SA0  SEASONALLY ADJUSTED INDEX   \n",
      "\n",
      "   unemployment_rate  \n",
      "0                6.7  \n",
      "1                6.1  \n",
      "2                5.6  \n",
      "3                5.3  \n",
      "4                5.0  \n",
      "5                4.9  \n",
      "6                4.7  \n",
      "7                4.3  \n",
      "8                4.1  \n",
      "9                4.0  \n"
     ]
    },
    {
     "data": {
      "image/png": "[encoded data removed]",
      "text/plain": [
       "<Figure size 640x480 with 1 Axes>"
      ]
     },
     "metadata": {},
     "output_type": "display_data"
    }
   ],
   "source": [
    "# Use merge_ordered() to merge inflation, unemployment with inner join\n",
    "inflation_unemploy = pd.merge_ordered(inflation, unemployment, on = 'date', how = 'inner')\n",
    "\n",
    "# Print inflation_unemploy \n",
    "print(inflation_unemploy)\n",
    "\n",
    "# Plot a scatter plot of unemployment_rate vs cpi of inflation_unemploy\n",
    "inflation_unemploy.plot(x = 'unemployment_rate', y = 'cpi', kind = 'scatter')\n",
    "plt.rcParams[\"figure.figsize\"] = (5, 10)\n",
    "plt.show()"
   ]
  },
  {
   "cell_type": "markdown",
   "id": "8c9feae1",
   "metadata": {},
   "source": [
    "## 4.4 merge_ordered() caution, multiple columns\n",
    "When using `merge_ordered()` to merge on multiple columns, the order is important when you combine it with the forward fill feature. The function sorts the merge on columns in the order provided. In this exercise, we will merge GDP and population data from the World Bank for the Australia and Sweden, reversing the order of the merge on columns. The frequency of the series are different, the GDP values are quarterly, and the population is yearly. Use the forward fill feature to fill in the missing data. Depending on the order provided, the fill forward will use unintended data to fill in the missing values.\n",
    "\n",
    "The tables `gdp` and `pop` have been loaded."
   ]
  },
  {
   "cell_type": "code",
   "execution_count": 67,
   "id": "7d666de8",
   "metadata": {},
   "outputs": [],
   "source": [
    "gdp = pd.read_csv('datasets/gdp2.csv')\n",
    "\n",
    "pop = pd.read_csv('datasets/pop1.csv')"
   ]
  },
  {
   "cell_type": "markdown",
   "id": "3a258a89",
   "metadata": {},
   "source": [
    "### 4.4.1 Instructions 1/2\n",
    "- Use `merge_ordered()` on `gdp` and `pop`, merging on columns `date` and `country` with the fill feature, save to `ctry_date`."
   ]
  },
  {
   "cell_type": "code",
   "execution_count": 68,
   "id": "0775a24e",
   "metadata": {},
   "outputs": [
    {
     "name": "stdout",
     "output_type": "stream",
     "text": [
      "          date    country         gdp  series_code_x       pop series_code_y\n",
      "0   1990-01-01  Australia  158051.132  NYGDPMKTPSAKD  17065100   SP.POP.TOTL\n",
      "1   1990-01-01     Sweden   79837.846  NYGDPMKTPSAKD   8558835   SP.POP.TOTL\n",
      "2   1990-04-01  Australia  158263.582  NYGDPMKTPSAKD   8558835   SP.POP.TOTL\n",
      "3   1990-04-01     Sweden   80582.286  NYGDPMKTPSAKD   8558835   SP.POP.TOTL\n",
      "4   1990-07-01  Australia  157329.279  NYGDPMKTPSAKD   8558835   SP.POP.TOTL\n",
      "5   1990-07-01     Sweden   79974.360  NYGDPMKTPSAKD   8558835   SP.POP.TOTL\n",
      "6   1990-09-01  Australia  158240.678  NYGDPMKTPSAKD   8558835   SP.POP.TOTL\n",
      "7   1990-09-01     Sweden   80106.497  NYGDPMKTPSAKD   8558835   SP.POP.TOTL\n",
      "8   1991-01-01  Australia  156195.954  NYGDPMKTPSAKD  17284000   SP.POP.TOTL\n",
      "9   1991-01-01     Sweden   79524.242  NYGDPMKTPSAKD   8617375   SP.POP.TOTL\n",
      "10  1991-04-01  Australia  155989.033  NYGDPMKTPSAKD   8617375   SP.POP.TOTL\n",
      "11  1991-04-01     Sweden   79073.059  NYGDPMKTPSAKD   8617375   SP.POP.TOTL\n",
      "12  1991-07-01  Australia  156635.858  NYGDPMKTPSAKD   8617375   SP.POP.TOTL\n",
      "13  1991-07-01     Sweden   79084.770  NYGDPMKTPSAKD   8617375   SP.POP.TOTL\n",
      "14  1991-09-01  Australia  156744.057  NYGDPMKTPSAKD   8617375   SP.POP.TOTL\n",
      "15  1991-09-01     Sweden   79740.606  NYGDPMKTPSAKD   8617375   SP.POP.TOTL\n",
      "16  1992-01-01  Australia  157916.081  NYGDPMKTPSAKD  17495000   SP.POP.TOTL\n",
      "17  1992-01-01     Sweden   79390.922  NYGDPMKTPSAKD   8668067   SP.POP.TOTL\n",
      "18  1992-04-01  Australia  159047.827  NYGDPMKTPSAKD   8668067   SP.POP.TOTL\n",
      "19  1992-04-01     Sweden   79060.283  NYGDPMKTPSAKD   8668067   SP.POP.TOTL\n",
      "20  1992-07-01  Australia  160658.176  NYGDPMKTPSAKD   8668067   SP.POP.TOTL\n",
      "21  1992-07-01     Sweden   78904.605  NYGDPMKTPSAKD   8668067   SP.POP.TOTL\n",
      "22  1992-09-01  Australia  163960.221  NYGDPMKTPSAKD   8668067   SP.POP.TOTL\n",
      "23  1992-09-01     Sweden   76996.837  NYGDPMKTPSAKD   8668067   SP.POP.TOTL\n",
      "24  1993-01-01  Australia  165097.495  NYGDPMKTPSAKD  17667000   SP.POP.TOTL\n",
      "25  1993-01-01     Sweden   75783.588  NYGDPMKTPSAKD   8718561   SP.POP.TOTL\n",
      "26  1993-04-01  Australia  166027.059  NYGDPMKTPSAKD   8718561   SP.POP.TOTL\n",
      "27  1993-04-01     Sweden   76708.548  NYGDPMKTPSAKD   8718561   SP.POP.TOTL\n",
      "28  1993-07-01  Australia  166203.179  NYGDPMKTPSAKD   8718561   SP.POP.TOTL\n",
      "29  1993-07-01     Sweden   77662.018  NYGDPMKTPSAKD   8718561   SP.POP.TOTL\n",
      "30  1993-09-01  Australia  169279.348  NYGDPMKTPSAKD   8718561   SP.POP.TOTL\n",
      "31  1993-09-01     Sweden   77703.304  NYGDPMKTPSAKD   8718561   SP.POP.TOTL\n"
     ]
    }
   ],
   "source": [
    "# Merge gdp and pop on date and country with fill and notice rows 2 and 3\n",
    "ctry_date = pd.merge_ordered(gdp, pop, on = ['date', 'country'],\n",
    "                             fill_method='ffill')\n",
    "\n",
    "# Print ctry_date\n",
    "print(ctry_date)"
   ]
  },
  {
   "cell_type": "markdown",
   "id": "d6cbeae7",
   "metadata": {},
   "source": [
    "### 4.4.2 Instructions 2/2\n",
    "- Perform the same merge of `gdp` and `pop`, but join on `country` and `date` (**reverse of step 1**) with the fill feature, saving this as `date_ctry`."
   ]
  },
  {
   "cell_type": "code",
   "execution_count": 69,
   "id": "8e944446",
   "metadata": {
    "scrolled": true
   },
   "outputs": [
    {
     "name": "stdout",
     "output_type": "stream",
     "text": [
      "          date    country         gdp  series_code_x       pop series_code_y\n",
      "0   1990-01-01  Australia  158051.132  NYGDPMKTPSAKD  17065100   SP.POP.TOTL\n",
      "1   1990-04-01  Australia  158263.582  NYGDPMKTPSAKD  17065100   SP.POP.TOTL\n",
      "2   1990-07-01  Australia  157329.279  NYGDPMKTPSAKD  17065100   SP.POP.TOTL\n",
      "3   1990-09-01  Australia  158240.678  NYGDPMKTPSAKD  17065100   SP.POP.TOTL\n",
      "4   1991-01-01  Australia  156195.954  NYGDPMKTPSAKD  17284000   SP.POP.TOTL\n",
      "5   1991-04-01  Australia  155989.033  NYGDPMKTPSAKD  17284000   SP.POP.TOTL\n",
      "6   1991-07-01  Australia  156635.858  NYGDPMKTPSAKD  17284000   SP.POP.TOTL\n",
      "7   1991-09-01  Australia  156744.057  NYGDPMKTPSAKD  17284000   SP.POP.TOTL\n",
      "8   1992-01-01  Australia  157916.081  NYGDPMKTPSAKD  17495000   SP.POP.TOTL\n",
      "9   1992-04-01  Australia  159047.827  NYGDPMKTPSAKD  17495000   SP.POP.TOTL\n",
      "10  1992-07-01  Australia  160658.176  NYGDPMKTPSAKD  17495000   SP.POP.TOTL\n",
      "11  1992-09-01  Australia  163960.221  NYGDPMKTPSAKD  17495000   SP.POP.TOTL\n",
      "12  1993-01-01  Australia  165097.495  NYGDPMKTPSAKD  17667000   SP.POP.TOTL\n",
      "13  1993-04-01  Australia  166027.059  NYGDPMKTPSAKD  17667000   SP.POP.TOTL\n",
      "14  1993-07-01  Australia  166203.179  NYGDPMKTPSAKD  17667000   SP.POP.TOTL\n",
      "15  1993-09-01  Australia  169279.348  NYGDPMKTPSAKD  17667000   SP.POP.TOTL\n",
      "16  1990-01-01     Sweden   79837.846  NYGDPMKTPSAKD   8558835   SP.POP.TOTL\n",
      "17  1990-04-01     Sweden   80582.286  NYGDPMKTPSAKD   8558835   SP.POP.TOTL\n",
      "18  1990-07-01     Sweden   79974.360  NYGDPMKTPSAKD   8558835   SP.POP.TOTL\n",
      "19  1990-09-01     Sweden   80106.497  NYGDPMKTPSAKD   8558835   SP.POP.TOTL\n",
      "20  1991-01-01     Sweden   79524.242  NYGDPMKTPSAKD   8617375   SP.POP.TOTL\n",
      "21  1991-04-01     Sweden   79073.059  NYGDPMKTPSAKD   8617375   SP.POP.TOTL\n",
      "22  1991-07-01     Sweden   79084.770  NYGDPMKTPSAKD   8617375   SP.POP.TOTL\n",
      "23  1991-09-01     Sweden   79740.606  NYGDPMKTPSAKD   8617375   SP.POP.TOTL\n",
      "24  1992-01-01     Sweden   79390.922  NYGDPMKTPSAKD   8668067   SP.POP.TOTL\n",
      "25  1992-04-01     Sweden   79060.283  NYGDPMKTPSAKD   8668067   SP.POP.TOTL\n",
      "26  1992-07-01     Sweden   78904.605  NYGDPMKTPSAKD   8668067   SP.POP.TOTL\n",
      "27  1992-09-01     Sweden   76996.837  NYGDPMKTPSAKD   8668067   SP.POP.TOTL\n",
      "28  1993-01-01     Sweden   75783.588  NYGDPMKTPSAKD   8718561   SP.POP.TOTL\n",
      "29  1993-04-01     Sweden   76708.548  NYGDPMKTPSAKD   8718561   SP.POP.TOTL\n",
      "30  1993-07-01     Sweden   77662.018  NYGDPMKTPSAKD   8718561   SP.POP.TOTL\n",
      "31  1993-09-01     Sweden   77703.304  NYGDPMKTPSAKD   8718561   SP.POP.TOTL\n"
     ]
    }
   ],
   "source": [
    "# Merge gdp and pop on country and date with fill\n",
    "date_ctry = pd.merge_ordered(gdp, pop, on = ['country', 'date'], fill_method = 'ffill')\n",
    "\n",
    "# Print date_ctry\n",
    "print(date_ctry)"
   ]
  },
  {
   "cell_type": "markdown",
   "id": "5fba73c3",
   "metadata": {},
   "source": [
    "## 4.5 Using merge_asof()"
   ]
  },
  {
   "cell_type": "markdown",
   "id": "24f2acd8",
   "metadata": {},
   "source": [
    "## 4.6 Using merge_asof() to study stocks\n",
    "You have a feed of stock market prices that you record. You attempt to track the price every five minutes. Still, due to some network latency, the prices you record are roughly every 5 minutes. You pull your price logs for three banks, *JP Morgan (JPM), Wells Fargo (WFC)*, and *Bank Of America (BAC)*. You want to know how the price change of the two other banks compare to JP Morgan. Therefore, you will need to merge these three logs into one table. Afterward, you will use the `pandas` `.diff()` method to compute the price change over time. Finally, plot the price changes so you can review your analysis.\n",
    "\n",
    "The three log files have been loaded for you as tables named `jpm`, `wells`, and `bac`."
   ]
  },
  {
   "cell_type": "code",
   "execution_count": 70,
   "id": "b834fc9c",
   "metadata": {},
   "outputs": [],
   "source": [
    "jpm = pd.read_csv('datasets/jpm.csv')\n",
    "jpm['date_time'] = pd.to_datetime(jpm['date_time'])\n",
    "\n",
    "wells = pd.read_csv('datasets/wells.csv')\n",
    "wells['date_time'] = pd.to_datetime(wells['date_time'])\n",
    "\n",
    "bac = pd.read_csv('datasets/bac.csv')\n",
    "bac['date_time'] = pd.to_datetime(bac['date_time'])"
   ]
  },
  {
   "cell_type": "markdown",
   "id": "633ee919",
   "metadata": {},
   "source": [
    "### 4.6.1 Instructions\n",
    "- Use `merge_asof()` to merge `jpm` (left table) and `wells` together on the `date_time` column, where the rows with the nearest times are matched, and with `suffixes=('', '_wells')`. Save to `jpm_wells`.\n",
    "- Use `merge_asof()` to merge `jpm_wells` (left table) and `bac` together on the `date_time` column, where the rows with the closest times are matched, and with `suffixes=('_jpm', '_bac')`. Save to `jpm_wells_bac`.\n",
    "- Using `price_diffs`, create a line plot of the close price of JPM, WFC, and BAC only."
   ]
  },
  {
   "cell_type": "code",
   "execution_count": 71,
   "id": "65518b86",
   "metadata": {
    "scrolled": true
   },
   "outputs": [
    {
     "data": {
      "image/png": "[encoded data removed]",
      "text/plain": [
       "<Figure size 500x1000 with 1 Axes>"
      ]
     },
     "metadata": {},
     "output_type": "display_data"
    }
   ],
   "source": [
    "# Use merge_asof() to merge jpm and wells\n",
    "jpm_wells = pd.merge_asof(jpm, wells, on = 'date_time', suffixes=('', '_wells'), direction = 'nearest')\n",
    "\n",
    "\n",
    "# Use merge_asof() to merge jpm_wells and bac\n",
    "jpm_wells_bac = pd.merge_asof(jpm_wells, bac, on = 'date_time', suffixes=('_jpm', '_bac'), direction = 'nearest')\n",
    "\n",
    "\n",
    "# Compute price diff\n",
    "price_diffs = jpm_wells_bac.diff()\n",
    "\n",
    "# Plot the price diff of the close of jpm, wells and bac only\n",
    "price_diffs.plot(y=['close_jpm', 'close_wells', 'close_bac'])\n",
    "plt.rcParams[\"figure.figsize\"] = (4, 5)\n",
    "plt.show()"
   ]
  },
  {
   "cell_type": "markdown",
   "id": "a6dc7862",
   "metadata": {},
   "source": [
    "## 4.7 Using merge_asof() to create dataset\n",
    "The `merge_asof()` function can be used to create datasets where you have a table of start and stop dates, and you want to use them to create a flag in another table. You have been given `gdp`, which is a table of quarterly GDP values of the US during the 1980s. Additionally, the table `recession` has been given to you. It holds the starting date of every US recession since 1980, and the date when the recession was declared to be over. Use `merge_asof()` to merge the tables and create a status flag if a quarter was during a recession. Finally, to check your work, plot the data in a bar chart.\n",
    "\n",
    "The tables `gdp` and `recession` have been loaded for you."
   ]
  },
  {
   "cell_type": "code",
   "execution_count": 72,
   "id": "ce113494",
   "metadata": {},
   "outputs": [],
   "source": [
    "gdp = pd.read_csv('datasets/gdp3.csv')\n",
    "gdp['date'] = pd.to_datetime(gdp['date'])\n",
    "\n",
    "recession = pd.read_csv('datasets/recession.csv')\n",
    "recession['date'] = pd.to_datetime(recession['date'])"
   ]
  },
  {
   "cell_type": "markdown",
   "id": "7329d6d8",
   "metadata": {},
   "source": [
    "### 4.7.1 Instructions\n",
    "- Using `merge_asof()`, merge `gdp` and `recession` on `date`, with `gdp` as the left table. Save to the variable `gdp_recession`.\n",
    "- Create a `list` using a list comprehension and a conditional expression, named `is_recession`, where for each row if the `gdp_recession['econ_status']` value is equal to 'recession' then enter `'r'` else `'g'`.\n",
    "- Using `gdp_recession`, plot a bar chart of `gdp` versus `date`, setting the `color` argument equal to `is_recession`."
   ]
  },
  {
   "cell_type": "code",
   "execution_count": 73,
   "id": "edb539fe",
   "metadata": {
    "scrolled": true
   },
   "outputs": [
    {
     "data": {
      "image/png": "[encoded data removed]",
      "text/plain": [
       "<Figure size 400x500 with 1 Axes>"
      ]
     },
     "metadata": {},
     "output_type": "display_data"
    }
   ],
   "source": [
    "# Merge gdp and recession on date using merge_asof()\n",
    "gdp_recession = pd.merge_asof(gdp, recession, on = 'date')\n",
    "\n",
    "# Create a list based on the row value of gdp_recession['econ_status']\n",
    "is_recession = ['r' if s=='recession' else 'g' for s in gdp_recession['econ_status']]\n",
    "\n",
    "# Plot a bar chart of gdp_recession\n",
    "gdp_recession.plot(kind='bar', y='gdp', x='date', color=is_recession, rot=90)\n",
    "plt.show()"
   ]
  },
  {
   "cell_type": "markdown",
   "id": "0e38ecd4",
   "metadata": {},
   "source": [
    "## 4.8 merge_asof() and merge_ordered() differences\n",
    "The `merge_asof()` and `merge_ordered()` functions are similar in the type of merge they perform and the input arguments they use. In this exercise, think about how the functions are different."
   ]
  },
  {
   "cell_type": "markdown",
   "id": "aa3c5ad7",
   "metadata": {},
   "source": [
    "### 4.8.1 Instructions\n",
    "- Drag and drop the statement into the appropriate box for either the `merge_asof()` function, the `merge_ordered()` function, or both if it applies to both functions."
   ]
  },
  {
   "cell_type": "markdown",
   "id": "ccfb3a03",
   "metadata": {},
   "source": [
    "|**merge_asof()**|**both**|**.merge_ordered**|\n",
    "|:--------------:|:------:|:----------------:|\n",
    "|Has an argument that can be set to `‘forward’` to select the first row in the right table whose key column is greater than or equal to the left’s.|This function can set the suffix for overlapping column names.|It allows for a right join during the merge.|\n",
    "|It can be used to do fuzzy matching of dates between tables.|This function can be used when working with ordered or time-series data.|If it cannot match the rows of the tables exactly, it can use forward fill to interpolate the missing data.|\n",
    "|After matching two tables, if there are missing values at the top of the table from the right table, this function can fill them in.|||"
   ]
  },
  {
   "cell_type": "markdown",
   "id": "3fbff69d",
   "metadata": {},
   "source": [
    "## 4.9 Selecting data with .query()"
   ]
  },
  {
   "cell_type": "markdown",
   "id": "44a33800",
   "metadata": {},
   "source": [
    "## 4.10 Explore financials with .query()\n",
    "You have been given a table of financial data from some popular social network companies called social_fin. All of the values are in thousands of US dollars.\n",
    "\n",
    "Use the `.query()` method and the IPython shell to explore `social_fin` and select the **True** statement."
   ]
  },
  {
   "cell_type": "markdown",
   "id": "dc72cc43",
   "metadata": {},
   "source": [
    "### 4.10.1 Instructions\n",
    "### Possible Answers\n",
    "\n",
    "- [ ] There 2 rows where the value is greater than $50,000,000K.\n",
    "\n",
    "- [ ] There are 3 rows for total revenue for Facebook.\n",
    "\n",
    "- [x] There are 6 rows where the net income has a negative value.\n",
    "\n",
    "- [ ] There are 45 rows, where the gross profit is greater than $100K."
   ]
  },
  {
   "cell_type": "markdown",
   "id": "1673de8c",
   "metadata": {},
   "source": [
    "## 4.11 Subsetting rows with .query()\n",
    "In this exercise, you will revisit GDP and population data for Australia and Sweden from the World Bank and expand on it using the `.query()` method. You'll merge the two tables and compute the GDP per capita. Afterwards, you'll use the `.query()` method to sub-select the rows and create a plot. Recall that you will need to merge on multiple columns in the proper order.\n",
    "\n",
    "The tables `gdp` and `pop` have been loaded for you."
   ]
  },
  {
   "cell_type": "code",
   "execution_count": 74,
   "id": "73aa5dd1",
   "metadata": {},
   "outputs": [],
   "source": [
    "gdp = pd.read_csv('datasets/gdp4.csv')\n",
    "gdp['date'] = pd.to_datetime(gdp['date'])\n",
    "\n",
    "pop = pd.read_csv('datasets/pop2.csv')\n",
    "pop['date'] = pd.to_datetime(pop['date'])"
   ]
  },
  {
   "cell_type": "markdown",
   "id": "fe78736a",
   "metadata": {},
   "source": [
    "### 4.11.1 Instructions 1/4\n",
    "- Use `merge_ordered()` on `gdp` and `pop` on columns `country` and `date` with the fill feature, save to `gdp_pop` and print."
   ]
  },
  {
   "cell_type": "code",
   "execution_count": 75,
   "id": "74e2feb2",
   "metadata": {},
   "outputs": [],
   "source": [
    "# Merge gdp and pop on date and country with fill\n",
    "gdp_pop = pd.merge_ordered(gdp, pop, on = ['country', 'date'], fill_method = 'ffill')"
   ]
  },
  {
   "cell_type": "markdown",
   "id": "44a2a95b",
   "metadata": {},
   "source": [
    "### 4.11.2 Instructions 2/4\n",
    "- Add a column named `gdp_per_capita` to `gdp_pop` that divides `gdp` by `pop`."
   ]
  },
  {
   "cell_type": "code",
   "execution_count": 76,
   "id": "aae66dff",
   "metadata": {},
   "outputs": [],
   "source": [
    "# Merge gdp and pop on date and country with fill\n",
    "gdp_pop = pd.merge_ordered(gdp, pop, on=['country','date'], fill_method='ffill')\n",
    "\n",
    "# Add a column named gdp_per_capita to gdp_pop that divides the gdp by pop\n",
    "gdp_pop['gdp_per_capita'] = gdp_pop['gdp'] / gdp_pop['pop']"
   ]
  },
  {
   "cell_type": "markdown",
   "id": "b8333800",
   "metadata": {},
   "source": [
    "### 4.11.3 Instructions 3/4\n",
    "- Pivot `gdp_pop` so `values='gdp_per_capita'`, `index='date'`, and `columns='country'`, save as `gdp_pivot`."
   ]
  },
  {
   "cell_type": "code",
   "execution_count": 77,
   "id": "51fca3d1",
   "metadata": {},
   "outputs": [],
   "source": [
    "# Merge gdp and pop on date and country with fill\n",
    "gdp_pop = pd.merge_ordered(gdp, pop, on=['country','date'], fill_method='ffill')\n",
    "\n",
    "# Add a column named gdp_per_capita to gdp_pop that divides the gdp by pop\n",
    "gdp_pop['gdp_per_capita'] = gdp_pop['gdp'] / gdp_pop['pop']\n",
    "\n",
    "# Pivot table of gdp_per_capita, where index is date and columns is country\n",
    "gdp_pivot = gdp_pop.pivot_table('gdp_per_capita', index = 'date', columns = 'country')"
   ]
  },
  {
   "cell_type": "markdown",
   "id": "4ab4063e",
   "metadata": {},
   "source": [
    "### 4.11.4 Instructions 4/4\n",
    "- Use `.query()` to select rows from `gdp_pivot` where `date` is greater than equal to `\"1991-01-01\"`. Save as `recent_gdp_pop`."
   ]
  },
  {
   "cell_type": "code",
   "execution_count": 78,
   "id": "a5b83a89",
   "metadata": {},
   "outputs": [
    {
     "data": {
      "image/png": "[encoded data removed]",
      "text/plain": [
       "<Figure size 400x500 with 1 Axes>"
      ]
     },
     "metadata": {},
     "output_type": "display_data"
    }
   ],
   "source": [
    "# Merge gdp and pop on date and country with fill\n",
    "gdp_pop = pd.merge_ordered(gdp, pop, on=['country','date'], fill_method='ffill')\n",
    "\n",
    "# Add a column named gdp_per_capita to gdp_pop that divides the gdp by pop\n",
    "gdp_pop['gdp_per_capita'] = gdp_pop['gdp'] / gdp_pop['pop']\n",
    "\n",
    "# Pivot data so gdp_per_capita, where index is date and columns is country\n",
    "gdp_pivot = gdp_pop.pivot_table('gdp_per_capita', 'date', 'country')\n",
    "\n",
    "# Select dates equal to or greater than 1991-01-01\n",
    "recent_gdp_pop = gdp_pivot.query('date >= \"1991-01-01\"')\n",
    "\n",
    "# Plot recent_gdp_pop\n",
    "recent_gdp_pop.plot(rot=90)\n",
    "plt.show()"
   ]
  },
  {
   "cell_type": "markdown",
   "id": "8da8222f",
   "metadata": {},
   "source": [
    "## 4.12 Reshaping data with .melt()"
   ]
  },
  {
   "cell_type": "markdown",
   "id": "ea057ae2",
   "metadata": {},
   "source": [
    "## 4.13 Select the right .melt() arguments\n",
    "You are given a table named `inflation`. Chose the option to get the ***same*** output as the table below.\n",
    "\n",
    "|     |country|indicator|year|annual|\n",
    "|:---:|:-----:|:-------:|:--:|:----:|\n",
    "|0|Brazil|Inflation %|2017|3.45|\n",
    "|1|Canada|Inflation %|2017|1.60|\n",
    "|2|France|Inflation %|2017|1.03|\n",
    "|3|India|Inflation %|2017|2.49|\n",
    "|4|Brazil|Inflation %|2018|3.66|\n",
    "|5|Canada|Inflation %|2018|2.27|\n",
    "|6|France|Inflation %|2018|1.85|\n",
    "|7|India|Inflation %|2018|4.86|\n",
    "|8|Brazil|Inflation %|2019|3.73|\n",
    "|9|Canada|Inflation %|2019|1.95|\n",
    "|10|France|Inflation %|2019|1.11|\n",
    "|11|India|Inflation %|2019|7.66|"
   ]
  },
  {
   "cell_type": "markdown",
   "id": "bb27471b",
   "metadata": {},
   "source": [
    "### 4.13.1 Instructions\n",
    "### Possible Answers\n",
    "\n",
    "- [ ] inflation.melt(id_vars=['country','indicator'], var_name='annual')\n",
    "\n",
    "- [ ] inflation.melt(id_vars=['country'], var_name='indicator', value_name='annual')\n",
    "\n",
    "- [x] inflation.melt(id_vars=['country','indicator'], var_name='year', value_name='annual')\n",
    "\n",
    "- [ ] inflation.melt(id_vars=['country'], var_name='year', value_name='annual')"
   ]
  },
  {
   "cell_type": "markdown",
   "id": "4adbf152",
   "metadata": {},
   "source": [
    "## 4.14 Using .melt() to reshape government data\n",
    "The US Bureau of Labor Statistics (BLS) often provides data series in an easy-to-read format - it has a separate column for each month, and each year is a different row. Unfortunately, this wide format makes it difficult to plot this information over time. In this exercise, you will reshape a table of US unemployment rate data from the BLS into a form you can plot using `.melt()`. You will need to add a date column to the table and sort by it to plot the data correctly.\n",
    "\n",
    "The unemployment rate data has been loaded for you in a table called `ur_wide`. You are encouraged to view the table in the IPython shell before beginning the exercise."
   ]
  },
  {
   "cell_type": "code",
   "execution_count": 79,
   "id": "5d2ce3f6",
   "metadata": {},
   "outputs": [],
   "source": [
    "ur_wide = pd.read_csv('datasets/ur_wide.csv')"
   ]
  },
  {
   "cell_type": "markdown",
   "id": "082cc579",
   "metadata": {},
   "source": [
    "### 4.14.1 Instructions\n",
    "- Use `.melt()` to unpivot all of the columns of `ur_wide` except `year` and ensure that the columns with the months and values are named `month` and `unempl_rate`, respectively. Save the result as `ur_tall`.\n",
    "- Add a column to `ur_tall` named date which combines the `year` and `month` columns as *year-month* format into a larger string, and converts it to a date data type.\n",
    "- Sort `ur_tall` by date and save as `ur_sorted`.\n",
    "- Using `ur_sorted`, plot `unempl_rate` on the y-axis and `date` on the x-axis."
   ]
  },
  {
   "cell_type": "code",
   "execution_count": 80,
   "id": "5475bf2a",
   "metadata": {},
   "outputs": [
    {
     "data": {
      "image/png": "[encoded data removed]",
      "text/plain": [
       "<Figure size 400x500 with 1 Axes>"
      ]
     },
     "metadata": {},
     "output_type": "display_data"
    }
   ],
   "source": [
    "# unpivot everything besides the year column\n",
    "ur_tall = ur_wide.melt(id_vars = 'year', var_name = ['month'], value_name = 'unempl_rate')\n",
    "\n",
    "ur_tall = ur_tall[ur_tall['unempl_rate'] != \"nan\"]\n",
    "ur_tall = ur_tall.dropna()\n",
    "ur_tall = ur_tall.astype(str)\n",
    "\n",
    "# Create a date column using the month and year columns of ur_tall\n",
    "ur_tall['date'] = pd.to_datetime(ur_tall['month'] + '-' + ur_tall['year'])\n",
    "\n",
    "# Sort ur_tall by date in ascending order\n",
    "ur_sorted = ur_tall.sort_values('date')\n",
    "\n",
    "ur_sorted['unempl_rate'] = pd.to_numeric(ur_sorted['unempl_rate'])\n",
    "\n",
    "# Plot the unempl_rate by date\n",
    "ur_sorted.plot(x = 'date', y = 'unempl_rate')\n",
    "plt.show()"
   ]
  },
  {
   "cell_type": "markdown",
   "id": "abff26dc",
   "metadata": {},
   "source": [
    "## 4.15 Using .melt() for stocks vs bond performance\n",
    "It is widespread knowledge that the price of bonds is inversely related to the price of stocks. In this last exercise, you'll review many of the topics in this chapter to confirm this. You have been given a table of percent change of the US 10-year treasury bond price. It is in a wide format where there is a separate column for each year. You will need to use the `.melt()` method to reshape this table.\n",
    "\n",
    "Additionally, you will use the `.query()` method to filter out unneeded data. You will merge this table with a table of the percent change of the Dow Jones Industrial stock index price. Finally, you will plot data.\n",
    "\n",
    "The tables `ten_yr` and `dji` have been loaded for you."
   ]
  },
  {
   "cell_type": "code",
   "execution_count": 81,
   "id": "116064e9",
   "metadata": {},
   "outputs": [],
   "source": [
    "ten_yr = pd.read_csv('datasets/ten_yr.csv')\n",
    "\n",
    "dji = pd.read_csv('datasets/dji.csv')"
   ]
  },
  {
   "cell_type": "markdown",
   "id": "09172762",
   "metadata": {},
   "source": [
    "### 4.15.1 Instructions\n",
    "- Use `.melt()` on `ten_yr` to unpivot everything except the `metric` column, setting `var_name='date'` and `value_name='close'`. Save the result to `bond_perc`.\n",
    "- Using the `.query()` method, select only those rows were `metric` equals 'close', and save to `bond_perc_close`.\n",
    "- Use `merge_ordered()` to merge `dji` (left table) and `bond_perc_close` on `date` with an inner join, and set `suffixes` equal to `('_dow', '_bond')`. Save the result to `dow_bond`.\n",
    "- Using `dow_bond`, plot only the Dow and bond values."
   ]
  },
  {
   "cell_type": "code",
   "execution_count": 82,
   "id": "81eddcd2",
   "metadata": {},
   "outputs": [
    {
     "data": {
      "image/png": "[encoded data removed]",
      "text/plain": [
       "<Figure size 400x500 with 1 Axes>"
      ]
     },
     "metadata": {},
     "output_type": "display_data"
    }
   ],
   "source": [
    "# Use melt on ten_yr, unpivot everything besides the metric column\n",
    "bond_perc = ten_yr.melt(id_vars = 'metric', var_name='date', value_name='close')\n",
    "\n",
    "# Use query on bond_perc to select only the rows where metric=close\n",
    "bond_perc_close = bond_perc.query('metric == \"close\"')\n",
    "\n",
    "# Merge (ordered) dji and bond_perc_close on date with an inner join\n",
    "dow_bond = pd.merge_ordered(dji, bond_perc_close, on = 'date', how = 'inner', suffixes = ('_dow', '_bond'))\n",
    "\n",
    "# Plot only the close_dow and close_bond columns\n",
    "dow_bond.plot(y = ['close_dow', 'close_bond'], x='date', rot=90)\n",
    "plt.show()"
   ]
  },
  {
   "cell_type": "markdown",
   "id": "6239ee80",
   "metadata": {},
   "source": [
    "## 4.16 Course wrap-up"
   ]
  }
 ],
 "metadata": {
  "kernelspec": {
   "display_name": "Python 3 (ipykernel)",
   "language": "python",
   "name": "python3"
  },
  "language_info": {
   "codemirror_mode": {
    "name": "ipython",
    "version": 3
   },
   "file_extension": ".py",
   "mimetype": "text/x-python",
   "name": "python",
   "nbconvert_exporter": "python",
   "pygments_lexer": "ipython3",
   "version": "3.9.15"
  }
 },
 "nbformat": 4,
 "nbformat_minor": 5
}
